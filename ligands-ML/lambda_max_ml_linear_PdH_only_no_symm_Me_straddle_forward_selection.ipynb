{
 "cells": [
  {
   "cell_type": "code",
   "execution_count": 1,
   "id": "10bafc00-f27f-4a8a-9794-c4a8ccc2fc2e",
   "metadata": {},
   "outputs": [],
   "source": [
    "import pandas as pd\n",
    "import matplotlib.pyplot as plt\n",
    "import seaborn as sns\n",
    "\n",
    "import numpy as np\n",
    "import sklearn.metrics\n",
    "from sklearn.model_selection import train_test_split\n",
    "from sklearn.linear_model import ElasticNet\n",
    "from sklearn.linear_model import LinearRegression\n",
    "from sklearn.model_selection import GridSearchCV\n",
    "from sklearn.preprocessing import StandardScaler\n",
    "from sklearn.feature_selection import SequentialFeatureSelector\n",
    "from sklearn.utils import resample"
   ]
  },
  {
   "cell_type": "code",
   "execution_count": 2,
   "id": "31b2d336-0d59-4c5a-ad4e-fbd3d2afdc69",
   "metadata": {},
   "outputs": [],
   "source": [
    "# Merge our DFT result data with the Kraken ML data for the ligands.\n",
    "dft_df = pd.read_csv(\"dft_data/lambda_max_v_bond_len_H_only.csv\")\n",
    "kraken_df = pd.read_csv(\"kraken_data/ml_8_210.csv\")\n",
    "\n",
    "merged_df = pd.merge(dft_df, kraken_df, on=\"molecule_id\")\n",
    "# Effectively, I think of this as a left joining kraken_df on dft_df"
   ]
  },
  {
   "cell_type": "code",
   "execution_count": 3,
   "id": "1e8c36d7-7a54-428b-93a2-db018f1039fb",
   "metadata": {},
   "outputs": [
    {
     "name": "stdout",
     "output_type": "stream",
     "text": [
      "(42, 195)\n",
      "(38, 195)\n"
     ]
    }
   ],
   "source": [
    "# Now, as we found before, the model does not predict cases with a \"symmetric methyl straddle\" very well.\n",
    "# I think this is because the overall agostic interaction is stronger (as in, Pd with two Hs).\n",
    "# This notebook is to consider the model when we leave out these cases.\n",
    "# So, drop these ligands here:\n",
    "print(merged_df.shape)\n",
    "\n",
    "symm_straddle_ids = [182847, 183055, 20097, 20103]\n",
    "\n",
    "for m_id in symm_straddle_ids:\n",
    "    merged_df = merged_df[merged_df.molecule_id != m_id]\n",
    "\n",
    "print(merged_df.shape)"
   ]
  },
  {
   "cell_type": "code",
   "execution_count": 4,
   "id": "e083ae6e-fb5d-4b5a-97ca-0226f17a4a50",
   "metadata": {},
   "outputs": [],
   "source": [
    "# Leave-one-out CV\n",
    "from sklearn.model_selection import LeaveOneOut\n",
    "def loocv(X, y, model, verbose=False):\n",
    "    loo = LeaveOneOut()\n",
    "    loo.get_n_splits(X)\n",
    "    \n",
    "    y_preds = []\n",
    "    for i, (train_indices, test_index) in enumerate(loo.split(X)):\n",
    "        print(f\"Fold {i}: \", end=\"\")\n",
    "        X_train, y_train = X[train_indices], y[train_indices]\n",
    "        X_test, y_test = X[test_index], y[test_index]\n",
    "        model.fit(X_train, y_train)\n",
    "        y_pred = model.predict(X_test)\n",
    "        y_preds.append(y_pred[0])\n",
    "        print(\"complete.  \", end=\"\")\n",
    "        \n",
    "        if verbose:\n",
    "            print()\n",
    "            print(model.coef_)\n",
    "            print(model.intercept_)\n",
    "    \n",
    "    print()\n",
    "    return y_preds"
   ]
  }
 ],
 "metadata": {
  "kernelspec": {
   "display_name": "Python 3 (ipykernel)",
   "language": "python",
   "name": "python3"
  },
  "language_info": {
   "codemirror_mode": {
    "name": "ipython",
    "version": 3
   },
   "file_extension": ".py",
   "mimetype": "text/x-python",
   "name": "python",
   "nbconvert_exporter": "python",
   "pygments_lexer": "ipython3",
   "version": "3.12.7"
  }
 },
 "nbformat": 4,
 "nbformat_minor": 5
}
