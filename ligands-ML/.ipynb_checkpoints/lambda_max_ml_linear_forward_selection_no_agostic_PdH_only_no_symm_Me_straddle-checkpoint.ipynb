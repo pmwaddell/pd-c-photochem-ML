{
 "cells": [
  {
   "cell_type": "code",
   "execution_count": 22,
   "id": "10bafc00-f27f-4a8a-9794-c4a8ccc2fc2e",
   "metadata": {},
   "outputs": [],
   "source": [
    "import pandas as pd\n",
    "import matplotlib.pyplot as plt\n",
    "import seaborn as sns\n",
    "\n",
    "import numpy as np\n",
    "import sklearn.metrics\n",
    "from sklearn.model_selection import train_test_split\n",
    "from sklearn.linear_model import ElasticNet\n",
    "from sklearn.linear_model import LinearRegression\n",
    "from sklearn.model_selection import GridSearchCV\n",
    "from sklearn.preprocessing import StandardScaler\n",
    "from sklearn.feature_selection import SequentialFeatureSelector\n",
    "from sklearn.utils import resample"
   ]
  },
  {
   "cell_type": "code",
   "execution_count": 23,
   "id": "31b2d336-0d59-4c5a-ad4e-fbd3d2afdc69",
   "metadata": {},
   "outputs": [],
   "source": [
    "# Merge our DFT result data with the Kraken ML data for the ligands.\n",
    "dft_df = pd.read_csv(\"dft_data/lambda_max_v_bond_len_H_only.csv\")\n",
    "kraken_df = pd.read_csv(\"kraken_data/ml_8_210.csv\")\n",
    "\n",
    "merged_df = pd.merge(dft_df, kraken_df, on=\"molecule_id\")\n",
    "# Effectively, I think of this as a left joining kraken_df on dft_df"
   ]
  },
  {
   "cell_type": "code",
   "execution_count": 24,
   "id": "1e8c36d7-7a54-428b-93a2-db018f1039fb",
   "metadata": {},
   "outputs": [
    {
     "name": "stdout",
     "output_type": "stream",
     "text": [
      "(42, 195)\n",
      "(38, 195)\n"
     ]
    }
   ],
   "source": [
    "# Now, as we found before, the model does not predict cases with a \"symmetric methyl straddle\" very well.\n",
    "# I think this is because the overall agostic interaction is stronger (as in, Pd with two Hs).\n",
    "# This notebook is to consider the model when we leave out these cases.\n",
    "# So, drop these ligands here:\n",
    "print(merged_df.shape)\n",
    "\n",
    "symm_straddle_ids = [182847, 183055, 20097, 20103]\n",
    "\n",
    "for m_id in symm_straddle_ids:\n",
    "    merged_df = merged_df[merged_df.molecule_id != m_id]\n",
    "\n",
    "print(merged_df.shape)"
   ]
  },
  {
   "cell_type": "code",
   "execution_count": 25,
   "id": "beaa13aa-0fe6-4128-b1dc-ede0cf2d1cdf",
   "metadata": {},
   "outputs": [],
   "source": [
    "# Full features:\n",
    "features_df = merged_df.iloc[:,3:].drop('smiles', axis=1).drop('Pd-H_length', axis=1)\n",
    "X_fs = features_df.values\n",
    "target_fs = merged_df.columns[1]\n",
    "y_fs = merged_df[target_fs].values"
   ]
  },
  {
   "cell_type": "code",
   "execution_count": 5,
   "id": "8bd45f7e-bb39-4735-b939-68e84d5c89fa",
   "metadata": {},
   "outputs": [
    {
     "name": "stdout",
     "output_type": "stream",
     "text": [
      "The selected features are: ['pyr_alpha_max', 'qpole_amp_delta', 'E_solv_total_boltzmann_average', 'efg_amp_P_boltzmann_average']\n"
     ]
    }
   ],
   "source": [
    "# Model:\n",
    "model = LinearRegression()\n",
    "selector = SequentialFeatureSelector(model, n_features_to_select=4, scoring='r2')\n",
    "\n",
    "selector.fit(X_fs, y_fs)\n",
    "selected_features = selector.get_support()\n",
    "print('The selected features are:', list(features_df.columns[selected_features]))"
   ]
  },
  {
   "cell_type": "code",
   "execution_count": 26,
   "id": "a5155031-1fc5-4ddf-99db-b105266804aa",
   "metadata": {},
   "outputs": [],
   "source": [
    "# So, let's make our model based on these selected features.\n",
    "forward_selection_features = [\n",
    "    \"E_solv_total_boltzmann_average\",\n",
    "    \"pyr_alpha_max\",\n",
    "    \"efg_amp_P_boltzmann_average\",\n",
    "    \"qpole_amp_delta\",\n",
    "    # \"spindens_P_rc_boltzmann_average\",\n",
    "    # \"vbur_max_delta_qvtot_vburminconf\",\n",
    "    # \"vbur_qvtot_max_min\",\n",
    "    # \"sterimol_burB5_boltzmann_average\",\n",
    "    # \"vbur_ovtot_max_delta\",\n",
    "    # \"vbur_max_delta_qvbur_min\",\n",
    "    # \"qpoletens_zz_max\",\n",
    "    # \"vbur_qvtot_max_delta\",\n",
    "    # \"sterimol_L_min\",\n",
    "    # \"nbo_lp_P_percent_s_boltzmann_average\",\n",
    "    # \"vbur_far_vtot_max\",\n",
    "    # \"vbur_ovbur_min_delta\"\n",
    "]\n",
    "features = merged_df[forward_selection_features]"
   ]
  },
  {
   "cell_type": "code",
   "execution_count": 27,
   "id": "b68ebef9-7fa0-413d-84dc-c4f041cb28a9",
   "metadata": {},
   "outputs": [],
   "source": [
    "# Here, I think the best model has 4 features. You can get a slightly lower MSE with 11 features, but I think sticking to the\n",
    "# simpler model is best when there isn't dramatic improvement."
   ]
  },
  {
   "cell_type": "code",
   "execution_count": 28,
   "id": "cb3f4c46-2403-490b-8e80-81f45f72a6fe",
   "metadata": {},
   "outputs": [
    {
     "data": {
      "image/png": "[encoded data removed]",
      "text/plain": [
       "<Figure size 360x360 with 2 Axes>"
      ]
     },
     "metadata": {
      "needs_background": "light"
     },
     "output_type": "display_data"
    }
   ],
   "source": [
    "# Let's do an absolute heatmap (and set the color axis so that 0 is light, 1 is dark):\n",
    "plt.figure(figsize= (5, 5))\n",
    "cmap = 'RdYlGn'\n",
    "abs_corr_heatmap = sns.heatmap(features.corr(), annot=True, cmap=cmap, vmin=-1, vmax=1)"
   ]
  },
  {
   "cell_type": "code",
   "execution_count": 9,
   "id": "eba0a087-b429-49cd-a29e-a426073cefe2",
   "metadata": {},
   "outputs": [],
   "source": [
    "# Set the feature and target values:\n",
    "X = features.values\n",
    "target = merged_df.columns[1]\n",
    "y = merged_df[target].values"
   ]
  },
  {
   "cell_type": "code",
   "execution_count": 10,
   "id": "e083ae6e-fb5d-4b5a-97ca-0226f17a4a50",
   "metadata": {},
   "outputs": [],
   "source": [
    "# Leave-one-out CV\n",
    "from sklearn.model_selection import LeaveOneOut\n",
    "def loocv(X, y, model, verbose=False):\n",
    "    loo = LeaveOneOut()\n",
    "    loo.get_n_splits(X)\n",
    "    \n",
    "    y_preds = []\n",
    "    for i, (train_indices, test_index) in enumerate(loo.split(X)):\n",
    "        print(f\"Fold {i}: \", end=\"\")\n",
    "        X_train, y_train = X[train_indices], y[train_indices]\n",
    "        X_test, y_test = X[test_index], y[test_index]\n",
    "        model.fit(X_train, y_train)\n",
    "        y_pred = model.predict(X_test)\n",
    "        y_preds.append(y_pred[0])\n",
    "        print(\"complete.  \", end=\"\")\n",
    "        \n",
    "        if verbose:\n",
    "            print()\n",
    "            print(model.coef_)\n",
    "            print(model.intercept_)\n",
    "    \n",
    "    print()\n",
    "    return y_preds"
   ]
  },
  {
   "cell_type": "code",
   "execution_count": 11,
   "id": "7fb5b535-53b3-45f1-a4d2-a6c3efcf3416",
   "metadata": {},
   "outputs": [
    {
     "name": "stdout",
     "output_type": "stream",
     "text": [
      "Fold 0: complete.  \n",
      "[  4.47510666   2.71560919 -38.35715799   2.61907673]\n",
      "423.68678391472616\n",
      "Fold 1: complete.  \n",
      "[  4.11950445   2.76466536 -33.42040218   3.68531594]\n",
      "408.34879962697397\n",
      "Fold 2: complete.  \n",
      "[  4.08321867   2.61738634 -36.36551097   3.02202462]\n",
      "419.0282465344867\n",
      "Fold 3: complete.  \n",
      "[  4.41953233   2.48974573 -36.47137294   3.3514234 ]\n",
      "425.22191145440394\n",
      "Fold 4: complete.  \n",
      "[  4.18949373   2.37070345 -37.70487646   3.41748991]\n",
      "429.64244965931204\n",
      "Fold 5: complete.  \n",
      "[  4.40252681   2.33015214 -40.46673316   3.01251497]\n",
      "438.0770987501661\n",
      "Fold 6: complete.  \n",
      "[  4.66213291   2.96610911 -34.59364173   3.49986832]\n",
      "409.5397921648155\n",
      "Fold 7: complete.  \n",
      "[  4.33306511   2.68175095 -34.6076867    3.37273826]\n",
      "415.8699697399391\n",
      "Fold 8: complete.  \n",
      "[  4.17902353   2.61559195 -35.87237567   2.86979567]\n",
      "418.8006461206134\n",
      "Fold 9: complete.  \n",
      "[  4.28968438   2.6378589  -36.23274342   3.18652487]\n",
      "419.6903920410617\n",
      "Fold 10: complete.  \n",
      "[  4.26044817   2.64180092 -37.1666783    3.30696364]\n",
      "420.7866586449077\n",
      "Fold 11: complete.  \n",
      "[  4.40566658   2.34660274 -24.29684692   2.80372481]\n",
      "408.477441467731\n",
      "Fold 12: complete.  \n",
      "[  4.34742646   2.65018795 -37.89860414   3.07434727]\n",
      "423.09357495448415\n",
      "Fold 13: complete.  \n",
      "[  4.26306602   2.65086677 -36.52625169   3.17119915]\n",
      "419.6833329278052\n",
      "Fold 14: complete.  \n",
      "[  4.32946307   2.67110822 -37.65880312   3.17049387]\n",
      "421.79866562088057\n",
      "Fold 15: complete.  \n",
      "[  4.38233646   2.7552346  -36.02919402   3.2476001 ]\n",
      "416.7541229691906\n",
      "Fold 16: complete.  \n",
      "[  4.255714     2.66913804 -36.70930407   3.11726749]\n",
      "419.5493865883743\n",
      "Fold 17: complete.  \n",
      "[  4.26995895   2.65680041 -34.4197211    3.15579415]\n",
      "415.855696360644\n",
      "Fold 18: complete.  \n",
      "[  4.29639523   2.6336531  -36.29809893   3.17563077]\n",
      "419.98791075335635\n",
      "Fold 19: complete.  \n",
      "[  4.32410373   2.63257031 -35.31699793   3.30347314]\n",
      "418.2106780571682\n",
      "Fold 20: complete.  \n",
      "[  4.28853532   2.63307103 -36.50014886   3.19654375]\n",
      "420.36277450056645\n",
      "Fold 21: complete.  \n",
      "[  4.24134848   2.5363147  -40.65286202   2.93497768]\n",
      "430.1079754417164\n",
      "Fold 22: complete.  \n",
      "[  4.28786523   2.63576061 -36.37767238   3.18150814]\n",
      "420.0044401735387\n",
      "Fold 23: complete.  \n",
      "[  4.2747531    2.62984433 -36.23897985   3.11064773]\n",
      "419.8428077498628\n",
      "Fold 24: complete.  \n",
      "[  4.23151444   2.69186909 -36.45009227   3.29538035]\n",
      "418.17144977044836\n",
      "Fold 25: complete.  \n",
      "[  4.01720414   2.74209478 -39.71517709   3.39863182]\n",
      "419.97506011735396\n",
      "Fold 26: complete.  \n",
      "[  4.47109192   2.67202007 -37.41457663   3.25635758]\n",
      "422.2210121785264\n",
      "Fold 27: complete.  \n",
      "[  4.27174502   2.63176801 -36.17403151   3.16505679]\n",
      "419.6492917688407\n",
      "Fold 28: complete.  \n",
      "[  4.37449118   2.6362572  -34.152315     3.37075242]\n",
      "416.41135860441796\n",
      "Fold 29: complete.  \n",
      "[  4.28831234   2.64025347 -36.29315719   3.1764694 ]\n",
      "419.7377033202716\n",
      "Fold 30: complete.  \n",
      "[  4.14113338   2.65087917 -36.40530228   2.93367933]\n",
      "418.6776610480653\n",
      "Fold 31: complete.  \n",
      "[  4.40923041   2.76738619 -36.58078711   3.92276855]\n",
      "417.5543790982237\n",
      "Fold 32: complete.  \n",
      "[  4.33561419   2.63424886 -36.22641183   3.26281396]\n",
      "420.04585282558645\n",
      "Fold 33: complete.  \n",
      "[  4.30549096   2.65962011 -36.26104463   3.25536802]\n",
      "419.1294301896497\n",
      "Fold 34: complete.  \n",
      "[  4.19152682   2.62619382 -36.17511168   3.27798146]\n",
      "419.10783363031743\n",
      "Fold 35: complete.  \n",
      "[  4.30602719   2.63600911 -36.30154353   3.17914967]\n",
      "420.041778473082\n",
      "Fold 36: complete.  \n",
      "[  4.2449713    2.64009586 -36.30994174   3.17589607]\n",
      "419.3446727869891\n",
      "Fold 37: complete.  \n",
      "[  4.10861251   2.42765413 -35.64605097   1.66278265]\n",
      "423.8601541783224\n",
      "\n"
     ]
    }
   ],
   "source": [
    "y_preds = loocv(X, y, LinearRegression(), verbose=True)\n",
    "# print(y_preds)"
   ]
  },
  {
   "cell_type": "code",
   "execution_count": 12,
   "id": "97df028c-d74c-4f37-baab-235171642d11",
   "metadata": {},
   "outputs": [
    {
     "name": "stdout",
     "output_type": "stream",
     "text": [
      "LOOCV MSE: 100.2\n"
     ]
    }
   ],
   "source": [
    "# Compute MSE:\n",
    "# keep this as is in order to print the SE along with each molecule_id\n",
    "squared_errors = []\n",
    "for i in range(len(y_preds)):\n",
    "    squared_errors.append(round((y_preds[i] - y[i]) ** 2, 1))\n",
    "print(f\"LOOCV MSE: {round((sum(squared_errors) / len(squared_errors)), 1)}\")"
   ]
  },
  {
   "cell_type": "code",
   "execution_count": 13,
   "id": "58ec9167-9223-4155-bac6-c35fd2092507",
   "metadata": {},
   "outputs": [
    {
     "name": "stdout",
     "output_type": "stream",
     "text": [
      "Linear, n-feature coefficients: [  4.29101343   2.63814654 -36.30093773   3.18057104]\n",
      "Linear, n-feature R2: 0.6281013646458287\n"
     ]
    }
   ],
   "source": [
    "linear_n_feature = LinearRegression()\n",
    "linear_n_feature.fit(X, y)\n",
    "print(f\"Linear, n-feature coefficients: {linear_n_feature.coef_}\")\n",
    "print(f\"Linear, n-feature R2: {linear_n_feature.score(X, y)}\")"
   ]
  },
  {
   "cell_type": "code",
   "execution_count": 15,
   "id": "ae2f56f4-43c8-4323-a81d-0422e2f3caa6",
   "metadata": {},
   "outputs": [
    {
     "data": {
      "text/plain": [
       "<Axes: xlabel='molecule_id', ylabel='squared error'>"
      ]
     },
     "execution_count": 15,
     "metadata": {},
     "output_type": "execute_result"
    },
    {
     "data": {
      "image/png": "[encoded data removed]",
      "text/plain": [
       "<Figure size 720x360 with 1 Axes>"
      ]
     },
     "metadata": {
      "needs_background": "light"
     },
     "output_type": "display_data"
    }
   ],
   "source": [
    "pd.Series(squared_errors, merged_df[\"molecule_id\"]).sort_values(ascending = True).plot(kind = \"bar\", figsize=(10,5), ylabel=\"squared error\")\n",
    "# TODO: double check that the labels and the names are correctly corresponding\n",
    "# same with the other such plots too"
   ]
  },
  {
   "cell_type": "code",
   "execution_count": null,
   "id": "2ae938c5-a097-4689-b68b-40ae7b661738",
   "metadata": {},
   "outputs": [],
   "source": [
    "\n"
   ]
  },
  {
   "cell_type": "code",
   "execution_count": 17,
   "id": "9fdf62b2-332f-4d7c-98ad-f50795f36556",
   "metadata": {},
   "outputs": [
    {
     "name": "stdout",
     "output_type": "stream",
     "text": [
      "Linear, agostic R2: 0.6737617465939237\n"
     ]
    }
   ],
   "source": [
    "# Also, how much better is out model than a 1-parameter regression with Pd-H length?\n",
    "# for what that model would lack in flexibility it may just fare well due to not overfitting...\n",
    "# basically, does the Kraken ML data really add anything or not, is it actually learning from that stuff\n",
    "from sklearn.linear_model import LinearRegression\n",
    "import numpy as np\n",
    "\n",
    "linear_agostic = LinearRegression()\n",
    "X_PdH = merged_df.loc[:, [\"Pd-H_length\"]].to_numpy()\n",
    "linear_agostic.fit(X_PdH, y)\n",
    "\n",
    "print(f\"Linear, agostic R2: {linear_agostic.score(X_PdH, y)}\")"
   ]
  },
  {
   "cell_type": "code",
   "execution_count": 18,
   "id": "884031d7-578b-43dd-9aa2-dd527fc7c387",
   "metadata": {},
   "outputs": [
    {
     "name": "stdout",
     "output_type": "stream",
     "text": [
      "Fold 0: complete.  Fold 1: complete.  Fold 2: complete.  Fold 3: complete.  Fold 4: complete.  Fold 5: complete.  Fold 6: complete.  Fold 7: complete.  Fold 8: complete.  Fold 9: complete.  Fold 10: complete.  Fold 11: complete.  Fold 12: complete.  Fold 13: complete.  Fold 14: complete.  Fold 15: complete.  Fold 16: complete.  Fold 17: complete.  Fold 18: complete.  Fold 19: complete.  Fold 20: complete.  Fold 21: complete.  Fold 22: complete.  Fold 23: complete.  Fold 24: complete.  Fold 25: complete.  Fold 26: complete.  Fold 27: complete.  Fold 28: complete.  Fold 29: complete.  Fold 30: complete.  Fold 31: complete.  Fold 32: complete.  Fold 33: complete.  Fold 34: complete.  Fold 35: complete.  Fold 36: complete.  Fold 37: complete.  \n"
     ]
    }
   ],
   "source": [
    "y_preds = loocv(X_PdH, y, linear_agostic)\n",
    "# print(y_preds)"
   ]
  },
  {
   "cell_type": "code",
   "execution_count": 19,
   "id": "68764054-87a2-4a53-878b-5e9efd724f1e",
   "metadata": {},
   "outputs": [
    {
     "name": "stdout",
     "output_type": "stream",
     "text": [
      "LOOCV MSE: 69.7\n"
     ]
    }
   ],
   "source": [
    "def calc_squared_errors(y_preds, y):\n",
    "    squared_errors = []\n",
    "    for i in range(len(y_preds)):\n",
    "        squared_errors.append(round((y_preds[i] - y[i]) ** 2, 1))\n",
    "    return squared_errors\n",
    "\n",
    "def calc_mse(y_preds, y):\n",
    "    squared_errors = calc_squared_errors(y_preds, y)\n",
    "    return round((sum(squared_errors) / len(squared_errors)), 1)\n",
    "\n",
    "\n",
    "print(f\"LOOCV MSE: {calc_mse(y_preds, y)}\")"
   ]
  }
 ],
 "metadata": {
  "kernelspec": {
   "display_name": "Python 3 (ipykernel)",
   "language": "python",
   "name": "python3"
  },
  "language_info": {
   "codemirror_mode": {
    "name": "ipython",
    "version": 3
   },
   "file_extension": ".py",
   "mimetype": "text/x-python",
   "name": "python",
   "nbconvert_exporter": "python",
   "pygments_lexer": "ipython3",
   "version": "3.12.7"
  }
 },
 "nbformat": 4,
 "nbformat_minor": 5
}
