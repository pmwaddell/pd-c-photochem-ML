{
 "cells": [
  {
   "cell_type": "code",
   "execution_count": 1,
   "id": "6bcbce33-b301-4816-8c3a-1db86230ef5c",
   "metadata": {},
   "outputs": [],
   "source": [
    "from rdkit import Chem\n",
    "from rdkit.Chem import rdFingerprintGenerator\n",
    "from rdkit.Chem.Draw import IPythonConsole\n",
    "from rdkit import DataStructs\n",
    "import rdkit\n",
    "\n",
    "# check out https://greglandrum.github.io/rdkit-blog/posts/2023-01-18-fingerprint-generator-tutorial.html"
   ]
  },
  {
   "cell_type": "code",
   "execution_count": 2,
   "id": "f096ec31-76ff-418e-8b93-6ad2657bbcca",
   "metadata": {},
   "outputs": [
    {
     "data": {
      "text/plain": [
       "<rdkit.DataStructs.cDataStructs.ExplicitBitVect at 0x13673cacba0>"
      ]
     },
     "execution_count": 2,
     "metadata": {},
     "output_type": "execute_result"
    }
   ],
   "source": [
    "mfpgen = rdFingerprintGenerator.GetMorganGenerator(radius=2,fpSize=2048)\n",
    "m = Chem.MolFromSmiles('CC(C)(C)P(N[Si](C)(C)C)C(C)(C)C')\n",
    "\n",
    "fp = mfpgen.GetFingerprint(m)\n",
    "fp"
   ]
  },
  {
   "cell_type": "code",
   "execution_count": 3,
   "id": "9c3cd754-1f62-44bc-a592-aabc44895dce",
   "metadata": {},
   "outputs": [
    {
     "name": "stdout",
     "output_type": "stream",
     "text": [
      "2048\n",
      "15\n"
     ]
    },
    {
     "data": {
      "text/plain": [
       "[-2049689486,\n",
       " -2048238559,\n",
       " -905989766,\n",
       " -757843576,\n",
       " -634266200,\n",
       " -403210415,\n",
       " -160313689,\n",
       " -100366592,\n",
       " -15168503,\n",
       " -6712373,\n",
       " 2782958,\n",
       " 392737424,\n",
       " 847961216,\n",
       " 984473645,\n",
       " 1798518767]"
      ]
     },
     "execution_count": 3,
     "metadata": {},
     "output_type": "execute_result"
    }
   ],
   "source": [
    "import numpy as np\n",
    "\n",
    "np_bits = mfpgen.GetFingerprintAsNumPy(m)\n",
    "print(len(np_bits))\n",
    "sparse = mfpgen.GetSparseFingerprint(m)\n",
    "print(sparse.GetNumOnBits())\n",
    "list(sparse.GetOnBits())"
   ]
  },
  {
   "cell_type": "code",
   "execution_count": 4,
   "id": "f1f61a78-1960-490d-ba36-c34bf56dca24",
   "metadata": {},
   "outputs": [
    {
     "name": "stdout",
     "output_type": "stream",
     "text": [
      "(70, 6)\n"
     ]
    },
    {
     "data": {
      "text/html": [
       "<div>\n",
       "<style scoped>\n",
       "    .dataframe tbody tr th:only-of-type {\n",
       "        vertical-align: middle;\n",
       "    }\n",
       "\n",
       "    .dataframe tbody tr th {\n",
       "        vertical-align: top;\n",
       "    }\n",
       "\n",
       "    .dataframe thead th {\n",
       "        text-align: right;\n",
       "    }\n",
       "</style>\n",
       "<table border=\"1\" class=\"dataframe\">\n",
       "  <thead>\n",
       "    <tr style=\"text-align: right;\">\n",
       "      <th></th>\n",
       "      <th>molecule_id</th>\n",
       "      <th>lambda_max</th>\n",
       "      <th>shift</th>\n",
       "      <th>smiles</th>\n",
       "      <th>Mol</th>\n",
       "      <th>morgan_fp</th>\n",
       "    </tr>\n",
       "  </thead>\n",
       "  <tbody>\n",
       "    <tr>\n",
       "      <th>0</th>\n",
       "      <td>8</td>\n",
       "      <td>395.4</td>\n",
       "      <td>0.0</td>\n",
       "      <td>CC(C)(C)P(C(C)(C)C)C(C)(C)C</td>\n",
       "      <td>&lt;rdkit.Chem.rdchem.Mol object at 0x0000013673C...</td>\n",
       "      <td>[0, 0, 0, 0, 0, 0, 0, 0, 0, 0, 0, 0, 0, 0, 0, ...</td>\n",
       "    </tr>\n",
       "    <tr>\n",
       "      <th>1</th>\n",
       "      <td>12</td>\n",
       "      <td>421.5</td>\n",
       "      <td>26.1</td>\n",
       "      <td>CC(C)(C)CP(C(C)(C)C)C(C)(C)C</td>\n",
       "      <td>&lt;rdkit.Chem.rdchem.Mol object at 0x00000136748...</td>\n",
       "      <td>[0, 0, 0, 0, 0, 0, 0, 0, 0, 0, 0, 0, 0, 0, 0, ...</td>\n",
       "    </tr>\n",
       "    <tr>\n",
       "      <th>2</th>\n",
       "      <td>1136</td>\n",
       "      <td>342.5</td>\n",
       "      <td>-52.9</td>\n",
       "      <td>COc1ccccc1P(C(C)(C)C)C(C)(C)C</td>\n",
       "      <td>&lt;rdkit.Chem.rdchem.Mol object at 0x00000136748...</td>\n",
       "      <td>[0, 0, 0, 0, 0, 0, 0, 0, 0, 0, 0, 0, 0, 0, 0, ...</td>\n",
       "    </tr>\n",
       "    <tr>\n",
       "      <th>3</th>\n",
       "      <td>1648</td>\n",
       "      <td>378.0</td>\n",
       "      <td>-17.4</td>\n",
       "      <td>CC(C)(C)P(c1cccc2ccccc12)C(C)(C)C</td>\n",
       "      <td>&lt;rdkit.Chem.rdchem.Mol object at 0x00000136748...</td>\n",
       "      <td>[0, 0, 0, 0, 0, 0, 0, 0, 0, 0, 0, 0, 0, 0, 0, ...</td>\n",
       "    </tr>\n",
       "    <tr>\n",
       "      <th>4</th>\n",
       "      <td>1656</td>\n",
       "      <td>414.7</td>\n",
       "      <td>19.3</td>\n",
       "      <td>Cc1cc(C)c(P(C(C)(C)C)C(C)(C)C)c(C)c1</td>\n",
       "      <td>&lt;rdkit.Chem.rdchem.Mol object at 0x00000136748...</td>\n",
       "      <td>[0, 0, 0, 0, 0, 0, 0, 0, 0, 0, 0, 0, 0, 0, 0, ...</td>\n",
       "    </tr>\n",
       "  </tbody>\n",
       "</table>\n",
       "</div>"
      ],
      "text/plain": [
       "   molecule_id  lambda_max  shift                                smiles  \\\n",
       "0            8       395.4    0.0           CC(C)(C)P(C(C)(C)C)C(C)(C)C   \n",
       "1           12       421.5   26.1          CC(C)(C)CP(C(C)(C)C)C(C)(C)C   \n",
       "2         1136       342.5  -52.9         COc1ccccc1P(C(C)(C)C)C(C)(C)C   \n",
       "3         1648       378.0  -17.4     CC(C)(C)P(c1cccc2ccccc12)C(C)(C)C   \n",
       "4         1656       414.7   19.3  Cc1cc(C)c(P(C(C)(C)C)C(C)(C)C)c(C)c1   \n",
       "\n",
       "                                                 Mol  \\\n",
       "0  <rdkit.Chem.rdchem.Mol object at 0x0000013673C...   \n",
       "1  <rdkit.Chem.rdchem.Mol object at 0x00000136748...   \n",
       "2  <rdkit.Chem.rdchem.Mol object at 0x00000136748...   \n",
       "3  <rdkit.Chem.rdchem.Mol object at 0x00000136748...   \n",
       "4  <rdkit.Chem.rdchem.Mol object at 0x00000136748...   \n",
       "\n",
       "                                           morgan_fp  \n",
       "0  [0, 0, 0, 0, 0, 0, 0, 0, 0, 0, 0, 0, 0, 0, 0, ...  \n",
       "1  [0, 0, 0, 0, 0, 0, 0, 0, 0, 0, 0, 0, 0, 0, 0, ...  \n",
       "2  [0, 0, 0, 0, 0, 0, 0, 0, 0, 0, 0, 0, 0, 0, 0, ...  \n",
       "3  [0, 0, 0, 0, 0, 0, 0, 0, 0, 0, 0, 0, 0, 0, 0, ...  \n",
       "4  [0, 0, 0, 0, 0, 0, 0, 0, 0, 0, 0, 0, 0, 0, 0, ...  "
      ]
     },
     "execution_count": 4,
     "metadata": {},
     "output_type": "execute_result"
    }
   ],
   "source": [
    "import pandas as pd\n",
    "\n",
    "kraken_df = pd.read_csv('kraken_data/ml_8_210.csv')[['molecule_id', 'smiles']]\n",
    "dft_df = pd.read_csv('dft_data/grand_lambda_max_data.csv')\n",
    "fp_df = pd.merge(dft_df, kraken_df, on='molecule_id')\n",
    "\n",
    "fp_df['Mol'] = fp_df['smiles'].apply(Chem.MolFromSmiles)\n",
    "fp_df['morgan_fp'] = fp_df['Mol'].apply(mfpgen.GetFingerprintAsNumPy)\n",
    "print(fp_df.shape)\n",
    "fp_df.head()"
   ]
  },
  {
   "cell_type": "code",
   "execution_count": 5,
   "id": "9dadc13f-3163-41ce-a2f8-d2b72225cb18",
   "metadata": {},
   "outputs": [
    {
     "name": "stdout",
     "output_type": "stream",
     "text": [
      "(70, 2048)\n",
      "(70,)\n"
     ]
    }
   ],
   "source": [
    "X = pd.DataFrame(fp_df['morgan_fp'].to_list(), columns=range(2048))\n",
    "target = fp_df.columns[1]\n",
    "y = fp_df[target].values\n",
    "print(X.shape)\n",
    "print(y.shape)"
   ]
  },
  {
   "cell_type": "code",
   "execution_count": 24,
   "id": "3c4e566b-d62a-4cba-8ab3-11a2fed7700b",
   "metadata": {},
   "outputs": [],
   "source": [
    "from sklearn.model_selection import LeaveOneOut\n",
    "\n",
    "def loocv(X, y, model, verbose=False):\n",
    "    loo = LeaveOneOut()\n",
    "    loo.get_n_splits(X)\n",
    "    \n",
    "    y_preds = []\n",
    "    for i, (train_indices, test_index) in enumerate(loo.split(X)):\n",
    "        X_train, y_train = X.iloc[train_indices], y[train_indices]\n",
    "        X_test, y_test = X.iloc[test_index], y[test_index]\n",
    "        model.fit(X_train, y_train)\n",
    "        y_pred = model.predict(X_test)\n",
    "        y_preds.append(y_pred[0])\n",
    "    return y_preds"
   ]
  },
  {
   "cell_type": "code",
   "execution_count": 25,
   "id": "1536bf86-c24a-4d5e-a981-cee0346d95db",
   "metadata": {},
   "outputs": [],
   "source": [
    "from sklearn.linear_model import LinearRegression\n",
    "\n",
    "y_preds = loocv(X, y, LinearRegression(), verbose=True)"
   ]
  },
  {
   "cell_type": "code",
   "execution_count": 29,
   "id": "b565975e-4050-42bb-b185-f8107f8922ff",
   "metadata": {},
   "outputs": [],
   "source": [
    "preds_df = pd.DataFrame({\n",
    "    'y': y,\n",
    "    'y_preds': y_preds\n",
    "})\n",
    "preds_df.to_csv('preds_data/ecfp_preds.csv')"
   ]
  },
  {
   "cell_type": "code",
   "execution_count": null,
   "id": "5d054485-0e42-4d99-871e-77f8c5b80119",
   "metadata": {},
   "outputs": [],
   "source": []
  }
 ],
 "metadata": {
  "kernelspec": {
   "display_name": "Python 3 (ipykernel)",
   "language": "python",
   "name": "python3"
  },
  "language_info": {
   "codemirror_mode": {
    "name": "ipython",
    "version": 3
   },
   "file_extension": ".py",
   "mimetype": "text/x-python",
   "name": "python",
   "nbconvert_exporter": "python",
   "pygments_lexer": "ipython3",
   "version": "3.12.7"
  }
 },
 "nbformat": 4,
 "nbformat_minor": 5
}
