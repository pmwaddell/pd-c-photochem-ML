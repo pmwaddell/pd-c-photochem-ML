{
 "cells": [
  {
   "cell_type": "code",
   "execution_count": null,
   "id": "5efa6725-c992-4687-bec5-86ab5fa3b446",
   "metadata": {},
   "outputs": [],
   "source": [
    "# From what we've found so far, there can be a subtle interplay of the ligand's:\n",
    "# flexibility (ability to form strong agostic interactions)\n",
    "# presence of heteroatoms in the proper positions (ability to form 4+-membered chelates)\n",
    "# electronic effects\n",
    "# when it comes to determining the lambda_max value.\n",
    "# Thus, it might make sense to take a chemical fingerprinting approach to building ML models, which might be able to encode some of these properties.\n",
    "\n"
   ]
  }
 ],
 "metadata": {
  "kernelspec": {
   "display_name": "Python 3 (ipykernel)",
   "language": "python",
   "name": "python3"
  },
  "language_info": {
   "codemirror_mode": {
    "name": "ipython",
    "version": 3
   },
   "file_extension": ".py",
   "mimetype": "text/x-python",
   "name": "python",
   "nbconvert_exporter": "python",
   "pygments_lexer": "ipython3",
   "version": "3.12.7"
  }
 },
 "nbformat": 4,
 "nbformat_minor": 5
}
