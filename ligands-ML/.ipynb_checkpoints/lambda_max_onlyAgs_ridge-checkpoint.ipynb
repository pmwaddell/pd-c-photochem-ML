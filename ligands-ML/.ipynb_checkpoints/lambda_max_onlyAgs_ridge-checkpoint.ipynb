{
 "cells": [
  {
   "cell_type": "code",
   "execution_count": null,
   "id": "10bafc00-f27f-4a8a-9794-c4a8ccc2fc2e",
   "metadata": {},
   "outputs": [],
   "source": [
    "import pandas as pd\n",
    "import matplotlib.pyplot as plt\n",
    "import numpy as np\n",
    "import sklearn.metrics\n",
    "\n",
    "from sklearn.model_selection import train_test_split\n",
    "from sklearn.linear_model import Ridge\n",
    "from sklearn.model_selection import GridSearchCV\n",
    "from sklearn.feature_selection import SequentialFeatureSelector\n",
    "from sklearn.utils import resample"
   ]
  },
  {
   "cell_type": "code",
   "execution_count": null,
   "id": "31b2d336-0d59-4c5a-ad4e-fbd3d2afdc69",
   "metadata": {},
   "outputs": [],
   "source": [
    "# Merge our DFT result data with the Kraken ML data for the ligands.\n",
    "dft_df = pd.read_csv(\"dft_data/lowest_E_isomers_lambda_max_data.csv\")\n",
    "kraken_df = pd.read_csv(\"kraken_data/ml_8_210.csv\")\n",
    "\n",
    "merged_df = pd.merge(dft_df, kraken_df, on=\"molecule_id\")\n",
    "\n",
    "\n",
    "\n",
    "# Here we are limiting ourselves to ONLY cases where there is an agostic interaction in the fourth site.\n",
    "merged_df = merged_df[merged_df[\"Pd_X_elem\"]==\"H\"]\n",
    "\n",
    "\n",
    "\n",
    "# Effectively, I think of this as a left joining kraken_df on dft_df\n",
    "merged_df.head()"
   ]
  },
  {
   "cell_type": "code",
   "execution_count": null,
   "id": "beaa13aa-0fe6-4128-b1dc-ede0cf2d1cdf",
   "metadata": {},
   "outputs": [],
   "source": [
    "# Full features:\n",
    "features_df = merged_df.iloc[:,7:]\n",
    "X = features_df.values\n",
    "target = merged_df.columns[2]\n",
    "y = merged_df[target].values\n",
    "print(X.shape)\n",
    "print(y.shape)"
   ]
  },
  {
   "cell_type": "code",
   "execution_count": null,
   "id": "5df82857-c30e-485f-b7ff-9e95186a4df9",
   "metadata": {},
   "outputs": [],
   "source": [
    "from sklearn.model_selection import LeaveOneOut\n",
    "\n",
    "def loocv(X, y, model, verbose=False):\n",
    "    loo = LeaveOneOut()\n",
    "    loo.get_n_splits(X)\n",
    "    \n",
    "    y_preds = []\n",
    "    for i, (train_indices, test_index) in enumerate(loo.split(X)):\n",
    "        X_train, y_train = X[train_indices], y[train_indices]\n",
    "        X_test, y_test = X[test_index], y[test_index]\n",
    "        model.fit(X_train, y_train)\n",
    "        y_pred = model.predict(X_test)\n",
    "        y_preds.append(y_pred[0])\n",
    "    return y_preds"
   ]
  },
  {
   "cell_type": "code",
   "execution_count": null,
   "id": "8bd45f7e-bb39-4735-b939-68e84d5c89fa",
   "metadata": {},
   "outputs": [],
   "source": [
    "seen_features = set()\n",
    "feature_order = []\n",
    "alpha_values = []\n",
    "loocv_mses = []\n",
    "r2s = []\n",
    "\n",
    "for num_feats in range(1, 3):\n",
    "    model = Ridge(tol=0.0001, max_iter = 1000000)\n",
    "    search_space = { \"alpha\": [0.00001, 0.0001, 0.001, 0.01, 0.1, 1, 10, 100] }\n",
    "    gs_ridge = GridSearchCV(\n",
    "        estimator=model,\n",
    "        param_grid=search_space,\n",
    "        scoring=[\"r2\"],\n",
    "        refit=\"r2\",\n",
    "        cv=5\n",
    "    )\n",
    "    \n",
    "    selector = SequentialFeatureSelector(gs_ridge, n_features_to_select=num_feats, scoring='r2')\n",
    "    selector.fit(X, y)\n",
    "    selected_features = list(features_df.columns[selector.get_support()])\n",
    "\n",
    "    # find the added feature\n",
    "    for feature in selected_features:\n",
    "        if feature not in seen_features:\n",
    "            seen_features.add(feature)\n",
    "            feature_order.append(feature)\n",
    "            break\n",
    "\n",
    "    # use only the num_feats features here\n",
    "    features = merged_df[feature_order]\n",
    "    X_num_feats = features.values\n",
    "    target = \"lambda_max\"\n",
    "\n",
    "    # get alpha\n",
    "    gs_ridge.fit(X_num_feats, y)\n",
    "    best_alpha = gs_ridge.best_estimator_.get_params()[\"alpha\"]\n",
    "    alpha_values.append(best_alpha)\n",
    "\n",
    "    model_alpha = Ridge(alpha=best_alpha, tol=0.0001, max_iter = 1000000)\n",
    "\n",
    "    # get LOOCV MSE\n",
    "    y_preds = loocv(X_num_feats, y, model_alpha)\n",
    "    squared_errors = []\n",
    "    for i in range(len(y_preds)):\n",
    "        squared_errors.append(round((y_preds[i] - y[i]) ** 2, 1))\n",
    "    loocv_mses.append(round((sum(squared_errors) / len(squared_errors)), 1))\n",
    "\n",
    "    # Get R2\n",
    "    model_alpha.fit(X_num_feats, y)\n",
    "    r2s.append(model_alpha.score(X_num_feats, y))\n",
    "    \n",
    "    print(f\"num_feats={num_feats} complete.\")\n",
    "    \n",
    "print(feature_order, alpha_values, loocv_mses, r2s)"
   ]
  },
  {
   "cell_type": "code",
   "execution_count": null,
   "id": "901e1ce6-c3f4-49bf-b0f0-7b90536bfeb0",
   "metadata": {},
   "outputs": [],
   "source": []
  },
  {
   "cell_type": "code",
   "execution_count": null,
   "id": "257cdf15-c039-4a11-b803-13982aa84892",
   "metadata": {},
   "outputs": [],
   "source": []
  },
  {
   "cell_type": "code",
   "execution_count": null,
   "id": "ec738750-26bd-4b52-b710-9c6ee8638b89",
   "metadata": {},
   "outputs": [],
   "source": []
  },
  {
   "cell_type": "code",
   "execution_count": null,
   "id": "9fdf62b2-332f-4d7c-98ad-f50795f36556",
   "metadata": {},
   "outputs": [],
   "source": [
    "# Also, how much better is out model than a 1-parameter regression with Pd-X length?\n",
    "# for what that model would lack in flexibility it may just fare well due to not overfitting...\n",
    "# basically, does the Kraken ML data really add anything or not, is it actually learning from that stuff\n",
    "from sklearn.linear_model import LinearRegression\n",
    "import numpy as np\n",
    "\n",
    "linear_agostic = LinearRegression()\n",
    "PdX_only_df = merged_df.loc[:, [\"lambda_max\", \"Pd-X_len\"]].dropna(axis=0)\n",
    "X_PdX = PdX_only_df[\"Pd-X_len\"].to_numpy().reshape(-1, 1)\n",
    "y_PdX = PdX_only_df[\"lambda_max\"].to_numpy()\n",
    "linear_agostic.fit(X_PdX, y_PdX)\n",
    "\n",
    "print(f\"Linear, agostic R2: {linear_agostic.score(X_PdX, y_PdX)}\")"
   ]
  },
  {
   "cell_type": "code",
   "execution_count": null,
   "id": "653bad22-eb0a-4dad-9497-506d7a0d798d",
   "metadata": {},
   "outputs": [],
   "source": [
    "plt.scatter(X_PdX, y_PdX)\n",
    "plt.show()"
   ]
  },
  {
   "cell_type": "code",
   "execution_count": null,
   "id": "884031d7-578b-43dd-9aa2-dd527fc7c387",
   "metadata": {},
   "outputs": [],
   "source": [
    "y_preds = loocv(X_PdX, y_PdX, LinearRegression())\n",
    "# print(y_preds)"
   ]
  },
  {
   "cell_type": "code",
   "execution_count": null,
   "id": "68764054-87a2-4a53-878b-5e9efd724f1e",
   "metadata": {},
   "outputs": [],
   "source": [
    "def calc_squared_errors(y_preds, y):\n",
    "    squared_errors = []\n",
    "    for i in range(len(y_preds)):\n",
    "        squared_errors.append(round((y_preds[i] - y[i]) ** 2, 1))\n",
    "    return squared_errors\n",
    "\n",
    "def calc_mse(y_preds, y):\n",
    "    squared_errors = calc_squared_errors(y_preds, y)\n",
    "    return round((sum(squared_errors) / len(squared_errors)), 1)\n",
    "\n",
    "\n",
    "print(f\"LOOCV MSE: {calc_mse(y_preds, y)}\")"
   ]
  },
  {
   "cell_type": "code",
   "execution_count": null,
   "id": "1efcce12-0c15-4812-a26b-1bc7e8371cc5",
   "metadata": {},
   "outputs": [],
   "source": []
  },
  {
   "cell_type": "code",
   "execution_count": null,
   "id": "80f6d7af-12f7-4ae6-9881-51c572e3155f",
   "metadata": {},
   "outputs": [],
   "source": []
  },
  {
   "cell_type": "code",
   "execution_count": null,
   "id": "7c2433ec-c627-456b-a6af-c6500c7c4d3e",
   "metadata": {},
   "outputs": [],
   "source": []
  }
 ],
 "metadata": {
  "kernelspec": {
   "display_name": "Python 3 (ipykernel)",
   "language": "python",
   "name": "python3"
  },
  "language_info": {
   "codemirror_mode": {
    "name": "ipython",
    "version": 3
   },
   "file_extension": ".py",
   "mimetype": "text/x-python",
   "name": "python",
   "nbconvert_exporter": "python",
   "pygments_lexer": "ipython3",
   "version": "3.12.7"
  }
 },
 "nbformat": 4,
 "nbformat_minor": 5
}
