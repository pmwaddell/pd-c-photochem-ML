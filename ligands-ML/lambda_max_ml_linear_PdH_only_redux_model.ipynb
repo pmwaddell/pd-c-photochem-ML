{
 "cells": [
  {
   "cell_type": "code",
   "execution_count": 1,
   "id": "10bafc00-f27f-4a8a-9794-c4a8ccc2fc2e",
   "metadata": {},
   "outputs": [],
   "source": [
    "import pandas as pd\n",
    "import matplotlib.pyplot as plt\n",
    "import seaborn as sns\n",
    "\n",
    "import numpy as np\n",
    "import sklearn.metrics\n",
    "from sklearn.model_selection import train_test_split\n",
    "from sklearn.linear_model import ElasticNet\n",
    "from sklearn.linear_model import LinearRegression\n",
    "from sklearn.model_selection import GridSearchCV\n",
    "from sklearn.preprocessing import StandardScaler\n",
    "from sklearn.feature_selection import SequentialFeatureSelector"
   ]
  },
  {
   "cell_type": "code",
   "execution_count": 2,
   "id": "31b2d336-0d59-4c5a-ad4e-fbd3d2afdc69",
   "metadata": {},
   "outputs": [
    {
     "data": {
      "text/html": [
       "<div>\n",
       "<style scoped>\n",
       "    .dataframe tbody tr th:only-of-type {\n",
       "        vertical-align: middle;\n",
       "    }\n",
       "\n",
       "    .dataframe tbody tr th {\n",
       "        vertical-align: top;\n",
       "    }\n",
       "\n",
       "    .dataframe thead th {\n",
       "        text-align: right;\n",
       "    }\n",
       "</style>\n",
       "<table border=\"1\" class=\"dataframe\">\n",
       "  <thead>\n",
       "    <tr style=\"text-align: right;\">\n",
       "      <th></th>\n",
       "      <th>molecule_id</th>\n",
       "      <th>lambda_max</th>\n",
       "      <th>shift</th>\n",
       "      <th>Pd-H_length</th>\n",
       "      <th>smiles</th>\n",
       "      <th>dipolemoment_max</th>\n",
       "      <th>pyr_P_max</th>\n",
       "      <th>pyr_alpha_max</th>\n",
       "      <th>qpole_amp_max</th>\n",
       "      <th>qpoletens_xx_max</th>\n",
       "      <th>...</th>\n",
       "      <th>vbur_qvbur_max_boltzmann_average</th>\n",
       "      <th>vbur_qvbur_min_boltzmann_average</th>\n",
       "      <th>vbur_qvtot_max_boltzmann_average</th>\n",
       "      <th>vbur_qvtot_min_boltzmann_average</th>\n",
       "      <th>vbur_ratio_vbur_vtot_boltzmann_average</th>\n",
       "      <th>vbur_vbur_boltzmann_average</th>\n",
       "      <th>vbur_vtot_boltzmann_average</th>\n",
       "      <th>vmin_r_boltzmann_average</th>\n",
       "      <th>vmin_vmin_boltzmann_average</th>\n",
       "      <th>volume_boltzmann_average</th>\n",
       "    </tr>\n",
       "  </thead>\n",
       "  <tbody>\n",
       "    <tr>\n",
       "      <th>0</th>\n",
       "      <td>8</td>\n",
       "      <td>395.4</td>\n",
       "      <td>0.0</td>\n",
       "      <td>2.30055</td>\n",
       "      <td>CC(C)(C)P(C(C)(C)C)C(C)(C)C</td>\n",
       "      <td>0.785410</td>\n",
       "      <td>0.814829</td>\n",
       "      <td>32.633045</td>\n",
       "      <td>2.286466</td>\n",
       "      <td>1.155208</td>\n",
       "      <td>...</td>\n",
       "      <td>20.849024</td>\n",
       "      <td>14.705131</td>\n",
       "      <td>92.370575</td>\n",
       "      <td>50.689070</td>\n",
       "      <td>0.277816</td>\n",
       "      <td>72.062120</td>\n",
       "      <td>253.71219</td>\n",
       "      <td>1.756687</td>\n",
       "      <td>-0.069888</td>\n",
       "      <td>320.95413</td>\n",
       "    </tr>\n",
       "    <tr>\n",
       "      <th>1</th>\n",
       "      <td>12</td>\n",
       "      <td>421.5</td>\n",
       "      <td>26.1</td>\n",
       "      <td>2.59931</td>\n",
       "      <td>CC(C)(C)CP(C(C)(C)C)C(C)(C)C</td>\n",
       "      <td>0.819760</td>\n",
       "      <td>0.883014</td>\n",
       "      <td>28.707630</td>\n",
       "      <td>1.997507</td>\n",
       "      <td>0.856250</td>\n",
       "      <td>...</td>\n",
       "      <td>21.402498</td>\n",
       "      <td>14.062596</td>\n",
       "      <td>89.652150</td>\n",
       "      <td>54.039700</td>\n",
       "      <td>0.271465</td>\n",
       "      <td>74.782196</td>\n",
       "      <td>271.61676</td>\n",
       "      <td>1.767097</td>\n",
       "      <td>-0.064135</td>\n",
       "      <td>345.01490</td>\n",
       "    </tr>\n",
       "    <tr>\n",
       "      <th>2</th>\n",
       "      <td>1648</td>\n",
       "      <td>378.0</td>\n",
       "      <td>-17.4</td>\n",
       "      <td>1.94427</td>\n",
       "      <td>CC(C)(C)P(c1cccc2ccccc12)C(C)(C)C</td>\n",
       "      <td>0.943379</td>\n",
       "      <td>0.852600</td>\n",
       "      <td>30.313591</td>\n",
       "      <td>5.221972</td>\n",
       "      <td>3.356086</td>\n",
       "      <td>...</td>\n",
       "      <td>27.215685</td>\n",
       "      <td>14.099444</td>\n",
       "      <td>146.207050</td>\n",
       "      <td>46.511883</td>\n",
       "      <td>0.235295</td>\n",
       "      <td>75.336480</td>\n",
       "      <td>322.30103</td>\n",
       "      <td>1.779128</td>\n",
       "      <td>-0.060278</td>\n",
       "      <td>385.63310</td>\n",
       "    </tr>\n",
       "    <tr>\n",
       "      <th>3</th>\n",
       "      <td>1656</td>\n",
       "      <td>414.7</td>\n",
       "      <td>19.3</td>\n",
       "      <td>2.29422</td>\n",
       "      <td>Cc1cc(C)c(P(C(C)(C)C)C(C)(C)C)c(C)c1</td>\n",
       "      <td>1.063524</td>\n",
       "      <td>0.785253</td>\n",
       "      <td>33.952614</td>\n",
       "      <td>4.349228</td>\n",
       "      <td>2.703184</td>\n",
       "      <td>...</td>\n",
       "      <td>27.946302</td>\n",
       "      <td>15.067517</td>\n",
       "      <td>128.196730</td>\n",
       "      <td>51.288940</td>\n",
       "      <td>0.252914</td>\n",
       "      <td>80.446860</td>\n",
       "      <td>320.88870</td>\n",
       "      <td>1.754941</td>\n",
       "      <td>-0.062705</td>\n",
       "      <td>392.55540</td>\n",
       "    </tr>\n",
       "    <tr>\n",
       "      <th>4</th>\n",
       "      <td>16511</td>\n",
       "      <td>369.7</td>\n",
       "      <td>-25.7</td>\n",
       "      <td>2.05612</td>\n",
       "      <td>CCC#CC(C)(C)P(CC(C)(C)C)CC(C)(C)C</td>\n",
       "      <td>0.828542</td>\n",
       "      <td>0.937721</td>\n",
       "      <td>21.047157</td>\n",
       "      <td>4.292618</td>\n",
       "      <td>3.905047</td>\n",
       "      <td>...</td>\n",
       "      <td>19.559307</td>\n",
       "      <td>15.134177</td>\n",
       "      <td>95.923110</td>\n",
       "      <td>64.802795</td>\n",
       "      <td>0.236930</td>\n",
       "      <td>76.982850</td>\n",
       "      <td>338.08795</td>\n",
       "      <td>1.775052</td>\n",
       "      <td>-0.056829</td>\n",
       "      <td>424.17822</td>\n",
       "    </tr>\n",
       "  </tbody>\n",
       "</table>\n",
       "<p>5 rows × 195 columns</p>\n",
       "</div>"
      ],
      "text/plain": [
       "   molecule_id  lambda_max  shift  Pd-H_length  \\\n",
       "0            8       395.4    0.0      2.30055   \n",
       "1           12       421.5   26.1      2.59931   \n",
       "2         1648       378.0  -17.4      1.94427   \n",
       "3         1656       414.7   19.3      2.29422   \n",
       "4        16511       369.7  -25.7      2.05612   \n",
       "\n",
       "                                 smiles  dipolemoment_max  pyr_P_max  \\\n",
       "0           CC(C)(C)P(C(C)(C)C)C(C)(C)C          0.785410   0.814829   \n",
       "1          CC(C)(C)CP(C(C)(C)C)C(C)(C)C          0.819760   0.883014   \n",
       "2     CC(C)(C)P(c1cccc2ccccc12)C(C)(C)C          0.943379   0.852600   \n",
       "3  Cc1cc(C)c(P(C(C)(C)C)C(C)(C)C)c(C)c1          1.063524   0.785253   \n",
       "4     CCC#CC(C)(C)P(CC(C)(C)C)CC(C)(C)C          0.828542   0.937721   \n",
       "\n",
       "   pyr_alpha_max  qpole_amp_max  qpoletens_xx_max  ...  \\\n",
       "0      32.633045       2.286466          1.155208  ...   \n",
       "1      28.707630       1.997507          0.856250  ...   \n",
       "2      30.313591       5.221972          3.356086  ...   \n",
       "3      33.952614       4.349228          2.703184  ...   \n",
       "4      21.047157       4.292618          3.905047  ...   \n",
       "\n",
       "   vbur_qvbur_max_boltzmann_average  vbur_qvbur_min_boltzmann_average  \\\n",
       "0                         20.849024                         14.705131   \n",
       "1                         21.402498                         14.062596   \n",
       "2                         27.215685                         14.099444   \n",
       "3                         27.946302                         15.067517   \n",
       "4                         19.559307                         15.134177   \n",
       "\n",
       "   vbur_qvtot_max_boltzmann_average  vbur_qvtot_min_boltzmann_average  \\\n",
       "0                         92.370575                         50.689070   \n",
       "1                         89.652150                         54.039700   \n",
       "2                        146.207050                         46.511883   \n",
       "3                        128.196730                         51.288940   \n",
       "4                         95.923110                         64.802795   \n",
       "\n",
       "   vbur_ratio_vbur_vtot_boltzmann_average  vbur_vbur_boltzmann_average  \\\n",
       "0                                0.277816                    72.062120   \n",
       "1                                0.271465                    74.782196   \n",
       "2                                0.235295                    75.336480   \n",
       "3                                0.252914                    80.446860   \n",
       "4                                0.236930                    76.982850   \n",
       "\n",
       "   vbur_vtot_boltzmann_average  vmin_r_boltzmann_average  \\\n",
       "0                    253.71219                  1.756687   \n",
       "1                    271.61676                  1.767097   \n",
       "2                    322.30103                  1.779128   \n",
       "3                    320.88870                  1.754941   \n",
       "4                    338.08795                  1.775052   \n",
       "\n",
       "   vmin_vmin_boltzmann_average  volume_boltzmann_average  \n",
       "0                    -0.069888                 320.95413  \n",
       "1                    -0.064135                 345.01490  \n",
       "2                    -0.060278                 385.63310  \n",
       "3                    -0.062705                 392.55540  \n",
       "4                    -0.056829                 424.17822  \n",
       "\n",
       "[5 rows x 195 columns]"
      ]
     },
     "execution_count": 2,
     "metadata": {},
     "output_type": "execute_result"
    }
   ],
   "source": [
    "# Merge our DFT result data with the Kraken ML data for the ligands.\n",
    "dft_df = pd.read_csv(\"dft_data/lambda_max_v_bond_len_H_only.csv\")\n",
    "kraken_df = pd.read_csv(\"kraken_data/ml_8_210.csv\")\n",
    "\n",
    "merged_df = pd.merge(dft_df, kraken_df, on=\"molecule_id\")\n",
    "merged_df.head()\n",
    "# Effectively, I think of this as a left joining kraken_df on dft_df"
   ]
  },
  {
   "cell_type": "code",
   "execution_count": 3,
   "id": "a5155031-1fc5-4ddf-99db-b105266804aa",
   "metadata": {},
   "outputs": [],
   "source": [
    "# Let's start with the top 20 features in the first principal component from our PCA (see ligand_pca.ipynb)\n",
    "# Then let's examine their multicollinearity and remove features until we have significantly reduced that.\n",
    "# We can also use various algorithms to do feature selection for us at this point.\n",
    "\n",
    "# Since these data are all related to complexes with some agostic interaction, I have decided to include the distance between\n",
    "# Pd and H (Pd-H_length) to see if the model hones in on this feature and whether that is generally helpful to us.\n",
    "\n",
    "first_pca_20_and_Pd_H_length = [\n",
    "    \"Pd-H_length\",\n",
    "    # \"nbo_lp_P_percent_s_boltzmann_average\",\n",
    "    # \"nbo_lp_P_occ_boltzmann_average\",\n",
    "    # \"nmrtens_sxx_P_boltzmann_average\",\n",
    "    # \"vmin_r_boltzmann_average\",\n",
    "    # \"nmr_P_boltzmann_average\",\n",
    "    # \"vbur_max_delta_qvtot_max\",\n",
    "    # \"vbur_max_delta_qvtot_vburminconf\",\n",
    "    # \"vbur_ratio_vbur_vtot_boltzmann_average\",\n",
    "    # \"vbur_max_delta_qvtot_boltzmann_average\",\n",
    "    # \"vbur_max_delta_qvtot_min\",\n",
    "    # \"sterimol_burB5_boltzmann_average\",\n",
    "    # \"vbur_ovbur_max_max\",\n",
    "    # \"vbur_qvbur_max_max\",\n",
    "    # \"vbur_ovbur_max_vburminconf\",\n",
    "    # \"vbur_ovbur_max_boltzmann_average\",\n",
    "    # \"vbur_qvbur_max_boltzmann_average\",\n",
    "    # \"vbur_ovbur_max_min\",\n",
    "    # \"vbur_qvbur_max_min\",\n",
    "    \"vbur_far_vtot_max\"\n",
    "]\n",
    "features = merged_df[first_pca_20_and_Pd_H_length]\n",
    "\n",
    "# plt.figure(figsize= (20, 20))\n",
    "# corr_heatmap = sns.heatmap(features.corr(), annot=True)"
   ]
  },
  {
   "cell_type": "code",
   "execution_count": 4,
   "id": "cb3f4c46-2403-490b-8e80-81f45f72a6fe",
   "metadata": {},
   "outputs": [
    {
     "data": {
      "image/png": "[encoded data removed]",
      "text/plain": [
       "<Figure size 360x360 with 2 Axes>"
      ]
     },
     "metadata": {
      "needs_background": "light"
     },
     "output_type": "display_data"
    }
   ],
   "source": [
    "# Let's do an absolute heatmap (and set the color axis so that 0 is light, 1 is dark):\n",
    "plt.figure(figsize= (5, 5))\n",
    "cmap = sns.cm.rocket_r\n",
    "abs_corr_heatmap = sns.heatmap(abs(features.corr()), annot=True, cmap=cmap)"
   ]
  },
  {
   "cell_type": "code",
   "execution_count": 5,
   "id": "eba0a087-b429-49cd-a29e-a426073cefe2",
   "metadata": {},
   "outputs": [],
   "source": [
    "# Set the feature and target values:\n",
    "X = features.values\n",
    "target = merged_df.columns[1]\n",
    "y = merged_df[target].values"
   ]
  },
  {
   "cell_type": "code",
   "execution_count": 6,
   "id": "879e31c5-2014-4f11-8b08-38d80c049509",
   "metadata": {},
   "outputs": [
    {
     "name": "stdout",
     "output_type": "stream",
     "text": [
      "['accuracy', 'adjusted_mutual_info_score', 'adjusted_rand_score', 'average_precision', 'balanced_accuracy', 'completeness_score', 'd2_absolute_error_score', 'explained_variance', 'f1', 'f1_macro', 'f1_micro', 'f1_samples', 'f1_weighted', 'fowlkes_mallows_score', 'homogeneity_score', 'jaccard', 'jaccard_macro', 'jaccard_micro', 'jaccard_samples', 'jaccard_weighted', 'matthews_corrcoef', 'max_error', 'mutual_info_score', 'neg_brier_score', 'neg_log_loss', 'neg_mean_absolute_error', 'neg_mean_absolute_percentage_error', 'neg_mean_gamma_deviance', 'neg_mean_poisson_deviance', 'neg_mean_squared_error', 'neg_mean_squared_log_error', 'neg_median_absolute_error', 'neg_negative_likelihood_ratio', 'neg_root_mean_squared_error', 'neg_root_mean_squared_log_error', 'normalized_mutual_info_score', 'positive_likelihood_ratio', 'precision', 'precision_macro', 'precision_micro', 'precision_samples', 'precision_weighted', 'r2', 'rand_score', 'recall', 'recall_macro', 'recall_micro', 'recall_samples', 'recall_weighted', 'roc_auc', 'roc_auc_ovo', 'roc_auc_ovo_weighted', 'roc_auc_ovr', 'roc_auc_ovr_weighted', 'top_k_accuracy', 'v_measure_score']\n"
     ]
    }
   ],
   "source": [
    "print(sklearn.metrics.get_scorer_names())"
   ]
  },
  {
   "cell_type": "code",
   "execution_count": 7,
   "id": "e083ae6e-fb5d-4b5a-97ca-0226f17a4a50",
   "metadata": {},
   "outputs": [],
   "source": [
    "# Leave-one-out CV\n",
    "from sklearn.model_selection import LeaveOneOut\n",
    "def loocv(X, y, model, verbose=False):\n",
    "    loo = LeaveOneOut()\n",
    "    loo.get_n_splits(X)\n",
    "    \n",
    "    y_preds = []\n",
    "    for i, (train_indices, test_index) in enumerate(loo.split(X)):\n",
    "        print(f\"Fold {i}: \", end=\"\")\n",
    "        X_train, y_train = X[train_indices], y[train_indices]\n",
    "        X_test, y_test = X[test_index], y[test_index]\n",
    "        model.fit(X_train, y_train)\n",
    "        y_pred = model.predict(X_test)\n",
    "        y_preds.append(y_pred[0])\n",
    "        print(\"complete.  \", end=\"\")\n",
    "        \n",
    "        if verbose:\n",
    "            print()\n",
    "            print(model.coef_)\n",
    "            print(model.intercept_)\n",
    "    \n",
    "    print()\n",
    "    return y_preds"
   ]
  },
  {
   "cell_type": "code",
   "execution_count": 8,
   "id": "7fb5b535-53b3-45f1-a4d2-a6c3efcf3416",
   "metadata": {},
   "outputs": [
    {
     "name": "stdout",
     "output_type": "stream",
     "text": [
      "Fold 0: complete.  \n",
      "[76.74101163  0.69912899]\n",
      "208.60566328630253\n",
      "Fold 1: complete.  \n",
      "[74.44188035  0.69804602]\n",
      "213.7531081836432\n",
      "Fold 2: complete.  \n",
      "[79.74852633  0.68777548]\n",
      "201.85264208959396\n",
      "Fold 3: complete.  \n",
      "[76.21361616  0.67801784]\n",
      "209.77291230068704\n",
      "Fold 4: complete.  \n",
      "[75.93354279  0.67758244]\n",
      "210.96679819783213\n",
      "Fold 5: complete.  \n",
      "[78.18525297  0.70435223]\n",
      "205.1846332203797\n",
      "Fold 6: complete.  \n",
      "[78.35463752  0.69257442]\n",
      "204.90596158743048\n",
      "Fold 7: complete.  \n",
      "[77.60076131  0.72512647]\n",
      "206.67673172689067\n",
      "Fold 8: complete.  \n",
      "[76.37598435  0.68235602]\n",
      "209.7357187692153\n",
      "Fold 9: complete.  \n",
      "[76.06470529  0.73873751]\n",
      "209.30484211986212\n",
      "Fold 10: complete.  \n",
      "[76.70385205  0.68885029]\n",
      "208.92340575784826\n",
      "Fold 11: complete.  \n",
      "[74.24195289  0.63959008]\n",
      "215.55085188135806\n",
      "Fold 12: complete.  \n",
      "[75.88870585  0.7040255 ]\n",
      "210.3682757325152\n",
      "Fold 13: complete.  \n",
      "[76.81459279  0.70800939]\n",
      "208.50542038200774\n",
      "Fold 14: complete.  \n",
      "[77.10934504  0.69476471]\n",
      "207.98979359795314\n",
      "Fold 15: complete.  \n",
      "[76.8217877   0.68662218]\n",
      "208.71583147834218\n",
      "Fold 16: complete.  \n",
      "[76.60062667  0.71250249]\n",
      "208.92321180468687\n",
      "Fold 17: complete.  \n",
      "[76.96816944  0.6849208 ]\n",
      "208.3987602480023\n",
      "Fold 18: complete.  \n",
      "[78.10359726  0.6360448 ]\n",
      "206.36006643088197\n",
      "Fold 19: complete.  \n",
      "[77.7017558  0.7148504]\n",
      "206.4273758111545\n",
      "Fold 20: complete.  \n",
      "[76.77823757  0.69075325]\n",
      "208.71238560408528\n",
      "Fold 21: complete.  \n",
      "[76.2743931  0.6807635]\n",
      "209.9268300834774\n",
      "Fold 22: complete.  \n",
      "[77.66821518  0.71780105]\n",
      "205.9858645525017\n",
      "Fold 23: complete.  \n",
      "[75.87892619  0.69824569]\n",
      "210.56304988426896\n",
      "Fold 24: complete.  \n",
      "[76.47098624  0.70635663]\n",
      "209.34259747017038\n",
      "Fold 25: complete.  \n",
      "[77.1370905   0.68511959]\n",
      "208.06147472286276\n",
      "Fold 26: complete.  \n",
      "[76.68293466  0.68862919]\n",
      "209.032719880434\n",
      "Fold 27: complete.  \n",
      "[75.99321998  0.68089524]\n",
      "210.84032950557884\n",
      "Fold 28: complete.  \n",
      "[75.65853375  0.58905021]\n",
      "213.58443412841876\n",
      "Fold 29: complete.  \n",
      "[75.96854666  0.61465904]\n",
      "212.35593016290906\n",
      "Fold 30: complete.  \n",
      "[79.65999346  0.70308422]\n",
      "202.27953808724885\n",
      "Fold 31: complete.  \n",
      "[77.5114443   0.67552163]\n",
      "207.10112364343232\n",
      "Fold 32: complete.  \n",
      "[79.22774892  0.6359456 ]\n",
      "204.98732843764492\n",
      "Fold 33: complete.  \n",
      "[73.72251486  0.62880053]\n",
      "216.9984523982266\n",
      "Fold 34: complete.  \n",
      "[77.12562438  0.69312932]\n",
      "207.86879251164086\n",
      "Fold 35: complete.  \n",
      "[77.26227219  0.69703284]\n",
      "207.4745615807326\n",
      "Fold 36: complete.  \n",
      "[80.02131194  0.7522465 ]\n",
      "199.96242769610947\n",
      "Fold 37: complete.  \n",
      "[77.17089007  0.70599572]\n",
      "207.47029182897717\n",
      "Fold 38: complete.  \n",
      "[75.96845489  0.69234378]\n",
      "210.70471659545152\n",
      "Fold 39: complete.  \n",
      "[77.41921753  0.68994031]\n",
      "207.3827032266739\n",
      "Fold 40: complete.  \n",
      "[75.81145818  0.70172914]\n",
      "210.67190093914644\n",
      "Fold 41: complete.  \n",
      "[75.06887588  0.70065814]\n",
      "211.99772271522255\n",
      "\n",
      "[390.9049930469043, 413.9441249895199, 368.5656464013049, 395.6692986242915, 373.9107209313921, 376.03854518861147, 381.1476833375749, 402.1520194000223, 410.301043784416, 391.2635363037216, 399.7818119993163, 372.073572506083, 398.4245045446668, 400.03642284731876, 409.27868827708437, 410.5583724997656, 397.60014174782884, 382.9751974636124, 389.1101822032581, 412.74586988507167, 393.00037748049203, 403.05741463127714, 385.2900941463671, 404.6001629998126, 392.9822752730977, 406.8939390256053, 384.84392060122354, 382.3786743828275, 387.51373772536954, 387.7713395696394, 417.9132114024208, 389.0438505205493, 397.05861659579114, 375.1322113369981, 382.00434796505283, 380.9190477444653, 376.60338352074785, 385.4517016525248, 383.30834215988534, 410.17100886502107, 405.5731114285353, 398.0836694407899]\n"
     ]
    }
   ],
   "source": [
    "y_preds = loocv(X, y, LinearRegression(), verbose=True)\n",
    "print(y_preds)"
   ]
  },
  {
   "cell_type": "code",
   "execution_count": 28,
   "id": "97df028c-d74c-4f37-baab-235171642d11",
   "metadata": {},
   "outputs": [
    {
     "name": "stdout",
     "output_type": "stream",
     "text": [
      "8.0 SE: 0.1\n",
      "12.0 SE: 21.6\n",
      "1648.0 SE: 88.5\n",
      "1656.0 SE: 398.2\n",
      "16511.0 SE: 76.8\n",
      "16670.0 SE: 10.6\n",
      "16848.0 SE: 95.6\n",
      "19864.0 SE: 49.2\n",
      "19867.0 SE: 43.5\n",
      "19874.0 SE: 50.0\n",
      "19877.0 SE: 0.4\n",
      "19880.0 SE: 364.6\n",
      "19884.0 SE: 21.3\n",
      "19898.0 SE: 35.0\n",
      "19901.0 SE: 28.1\n",
      "19903.0 SE: 187.9\n",
      "19904.0 SE: 64.2\n",
      "19905.0 SE: 84.7\n",
      "19929.0 SE: 363.8\n",
      "19937.0 SE: 21.3\n",
      "19939.0 SE: 2.0\n",
      "19961.0 SE: 57.4\n",
      "19966.0 SE: 110.1\n",
      "19973.0 SE: 0.2\n",
      "19985.0 SE: 1.6\n",
      "149979.0 SE: 24.4\n",
      "182739.0 SE: 0.1\n",
      "182768.0 SE: 73.3\n",
      "182847.0 SE: 1342.5\n",
      "183055.0 SE: 932.4\n",
      "20079.0 SE: 43.2\n",
      "20094.0 SE: 139.3\n",
      "20097.0 SE: 1763.4\n",
      "20103.0 SE: 511.5\n",
      "20107.0 SE: 1.3\n",
      "20113.0 SE: 0.8\n",
      "20130.0 SE: 250.4\n",
      "20137.0 SE: 3.7\n",
      "20140.0 SE: 19.3\n",
      "20153.0 SE: 1.4\n",
      "20154.0 SE: 4.0\n",
      "20220.0 SE: 352.8\n",
      "LOOCV MSE: 181.9\n"
     ]
    }
   ],
   "source": [
    "# Compute MSE:\n",
    "squared_errors = []\n",
    "for i in range(len(y_preds)):\n",
    "    squared_errors.append(round((y_preds[i] - y[i]) ** 2, 1))\n",
    "    print(f\"{dft_df.iloc[i][\"molecule_id\"]} SE: {round((y_preds[i] - y[i]) ** 2, 1)}\")\n",
    "print(f\"LOOCV MSE: {round((sum(squared_errors) / len(squared_errors)), 1)}\")"
   ]
  },
  {
   "cell_type": "code",
   "execution_count": 10,
   "id": "58ec9167-9223-4155-bac6-c35fd2092507",
   "metadata": {},
   "outputs": [
    {
     "name": "stdout",
     "output_type": "stream",
     "text": [
      "Linear, 2-feature coefficients: [76.83600424  0.68765939]\n",
      "Linear, 2-feature R2: 0.534337187403976\n"
     ]
    }
   ],
   "source": [
    "linear_2feature = LinearRegression()\n",
    "linear_2feature.fit(X, y)\n",
    "print(f\"Linear, 2-feature coefficients: {linear_2feature.coef_}\")\n",
    "print(f\"Linear, 2-feature R2: {linear_2feature.score(X, y)}\")"
   ]
  },
  {
   "cell_type": "code",
   "execution_count": 24,
   "id": "ae2f56f4-43c8-4323-a81d-0422e2f3caa6",
   "metadata": {},
   "outputs": [
    {
     "data": {
      "text/plain": [
       "<Axes: xlabel='molecule_id'>"
      ]
     },
     "execution_count": 24,
     "metadata": {},
     "output_type": "execute_result"
    },
    {
     "data": {
      "image/png": "[encoded data removed]",
      "text/plain": [
       "<Figure size 720x360 with 1 Axes>"
      ]
     },
     "metadata": {
      "needs_background": "light"
     },
     "output_type": "display_data"
    }
   ],
   "source": [
    "pd.Series(squared_errors, dft_df[\"molecule_id\"]).sort_values(ascending = True).plot(kind = \"bar\", figsize=(10,5))\n",
    "# TODO: double check that the labels and the names are correctly corresponding\n",
    "# same with the other such plots too"
   ]
  },
  {
   "cell_type": "code",
   "execution_count": 18,
   "id": "6b7a0f23-8ca5-46af-ab92-9bf6f8a8d04b",
   "metadata": {},
   "outputs": [],
   "source": [
    "# Some of the worst-predicted ligands are 20097, 182847, and 183055, which all feature an aryl methyl \"straddling\" the metal center.\n",
    "# I'm not really sure about this, but it might be possible that the agostic is stronger than one might predict\n",
    "# if there is some interaction between both Hs and Pd maybe, but the model really effectively only accounts for one.\n",
    "# On the other hand, numerous other \"methyl straddles\" are well-predicted, like 20140 and 182739.\n",
    "# So I'm not sure, it might be a coincidence, or there may be some other factor that leads to these ligands being poorly predicted.\n",
    "# Perhaps, also, the very symmetrical methyl straddles are poorly predicted, while e.g. 20140 and 182739 actually are not really symmetric\n",
    "# so those ones are closer to \"traditional\" agostic interactions\n",
    "# I guess I should look a little into agostic interactions, I'm sure this has been studied and observed before. \n",
    "# I think this is seen for those solid-state generated agostics, which were Ir I think, what was that paper?\n",
    "\n",
    "# Badly-predicted:\n",
    "# 182847 Pd-H distances: 2.29005, 2.24364  diff: ~0.05\n",
    "# 183055 Pd-H distances: 2.29815, 2.24564  diff: ~0.05\n",
    "# 20097 Pd-H distances: 2.33343, 2.06998  diff: ~0.26\n",
    "# 20097 is still an outlier, but there seems to be something to the general trend\n",
    "\n",
    "# Meh\n",
    "# 20103 Pd-H distances: 2.3202, 2.08786  diff: ~0.23\n",
    "\n",
    "# Well-predicted:\n",
    "# 182739 Pd-H distances: 2.52356, 2.13152  diff: ~0.39\n",
    "# 182768 Pd-H distances: 2.51897, 2.139  diff: ~0.38\n",
    "# 20140 Pd-H distances: 2.49074, 2.10685  diff: ~0.38\n",
    "# well it is more..."
   ]
  },
  {
   "cell_type": "code",
   "execution_count": 12,
   "id": "95f7f4ee-ef5e-463c-a9a7-c11a77291c2f",
   "metadata": {},
   "outputs": [
    {
     "data": {
      "text/plain": [
       "<Figure size 432x288 with 0 Axes>"
      ]
     },
     "metadata": {},
     "output_type": "display_data"
    },
    {
     "data": {
      "image/png": "[encoded data removed]",
      "text/plain": [
       "<Figure size 576x576 with 1 Axes>"
      ]
     },
     "metadata": {
      "needs_background": "light"
     },
     "output_type": "display_data"
    }
   ],
   "source": [
    "# Plot the plane in 3D:\n",
    "from mpl_toolkits import mplot3d\n",
    "\n",
    "fig = plt.figure()\n",
    "plt.figure(figsize= (8, 8))\n",
    "\n",
    "ax = plt.axes(projection='3d')\n",
    "ax.scatter3D(X.T[0], X.T[1], y)\n",
    "\n",
    "x1_coef, x2_coef, intercept = linear_2feature.coef_[0], linear_2feature.coef_[1], linear_2feature.intercept_\n",
    "x1lim, x2lim = ax.get_xlim(), ax.get_ylim()\n",
    "x1, x2 = np.meshgrid(\n",
    "    np.linspace(x1lim[0], x1lim[1], 10),\n",
    "    np.linspace(x2lim[0], x2lim[1], 10)\n",
    ")\n",
    "y_plane = x1_coef*x1 + x2_coef*x2 + intercept\n",
    "surf = ax.plot_surface(x1, x2, y_plane, alpha=0.2)"
   ]
  },
  {
   "cell_type": "code",
   "execution_count": null,
   "id": "2ae938c5-a097-4689-b68b-40ae7b661738",
   "metadata": {},
   "outputs": [],
   "source": [
    "\n"
   ]
  },
  {
   "cell_type": "code",
   "execution_count": 13,
   "id": "fd46688a-a92d-4ba2-a6c6-90bc40509735",
   "metadata": {},
   "outputs": [],
   "source": [
    "# Boostrap CV\n",
    "from sklearn.utils import resample\n",
    "\n",
    "boot = resample(X, replace=True, n_samples=len(X), random_state=1)\n",
    "# print(boot)"
   ]
  },
  {
   "cell_type": "code",
   "execution_count": 14,
   "id": "9fdf62b2-332f-4d7c-98ad-f50795f36556",
   "metadata": {},
   "outputs": [
    {
     "name": "stdout",
     "output_type": "stream",
     "text": [
      "Linear, agostic R2: 0.43581010687840327\n"
     ]
    }
   ],
   "source": [
    "# Also, how much better is out model than a 1-parameter regression with Pd-H length?\n",
    "# for what that model would lack in flexibility it may just fare well due to not overfitting...\n",
    "# basically, does the Kraken ML data really add anything or not, is it actually learning from that stuff\n",
    "from sklearn.linear_model import LinearRegression\n",
    "import numpy as np\n",
    "\n",
    "linear_agostic = LinearRegression()\n",
    "X_PdH = merged_df.loc[:, [\"Pd-H_length\"]].to_numpy()\n",
    "linear_agostic.fit(X_PdH, y)\n",
    "\n",
    "print(f\"Linear, agostic R2: {linear_agostic.score(X_PdH, y)}\")"
   ]
  },
  {
   "cell_type": "code",
   "execution_count": 15,
   "id": "884031d7-578b-43dd-9aa2-dd527fc7c387",
   "metadata": {},
   "outputs": [
    {
     "name": "stdout",
     "output_type": "stream",
     "text": [
      "Fold 0: complete.  Fold 1: complete.  Fold 2: complete.  Fold 3: complete.  Fold 4: complete.  Fold 5: complete.  Fold 6: complete.  Fold 7: complete.  Fold 8: complete.  Fold 9: complete.  Fold 10: complete.  Fold 11: complete.  Fold 12: complete.  Fold 13: complete.  Fold 14: complete.  Fold 15: complete.  Fold 16: complete.  Fold 17: complete.  Fold 18: complete.  Fold 19: complete.  Fold 20: complete.  Fold 21: complete.  Fold 22: complete.  Fold 23: complete.  Fold 24: complete.  Fold 25: complete.  Fold 26: complete.  Fold 27: complete.  Fold 28: complete.  Fold 29: complete.  Fold 30: complete.  Fold 31: complete.  Fold 32: complete.  Fold 33: complete.  Fold 34: complete.  Fold 35: complete.  Fold 36: complete.  Fold 37: complete.  Fold 38: complete.  Fold 39: complete.  Fold 40: complete.  Fold 41: complete.  \n",
      "[395.70730349717576, 416.8483092529236, 368.59095018035464, 394.7449763226889, 378.4638746841119, 380.34391035566284, 382.02494279364294, 396.41327134628216, 406.10331943352196, 398.4315019042052, 401.61751582551165, 379.39371853270035, 402.1844787555815, 390.1836405184, 402.09850188845456, 396.9917415239097, 385.5899321074318, 374.3945153227002, 379.4256931901468, 402.7858636034533, 396.1988145170594, 400.525972614769, 389.30740466146153, 408.94751694592776, 386.331256679709, 410.4427315905398, 383.3753087756049, 384.26144993722204, 392.43949363589525, 392.43534012005495, 414.6759111529407, 386.6973769805054, 399.2931647438628, 381.41612877929424, 385.8224564739495, 385.6126968910558, 382.674428432708, 390.46608023054284, 381.79593192006587, 408.57262101305406, 411.9932605049547, 399.3179678136273]\n"
     ]
    }
   ],
   "source": [
    "y_preds = loocv(X_PdH, y, linear_agostic)\n",
    "print(y_preds)"
   ]
  },
  {
   "cell_type": "code",
   "execution_count": 16,
   "id": "68764054-87a2-4a53-878b-5e9efd724f1e",
   "metadata": {},
   "outputs": [
    {
     "name": "stdout",
     "output_type": "stream",
     "text": [
      "LOOCV MSE: 181.9\n"
     ]
    }
   ],
   "source": [
    "squared_errors = []\n",
    "for i in range(len(y_preds)):\n",
    "    squared_errors.append(round((y_preds[i] - y[i]) ** 2, 1))\n",
    "print(f\"LOOCV MSE: {round((sum(squared_errors) / len(squared_errors)), 1)}\")"
   ]
  },
  {
   "cell_type": "code",
   "execution_count": 17,
   "id": "4d7e89cb-ec2b-4bc9-8bd4-20470b4e8a6e",
   "metadata": {},
   "outputs": [],
   "source": [
    "# AAAAAAAAAAAGGGGGGGGGGGGGGGGHHHHHHHHHHHHHHHHHHHHHHHHHHHHHHHHHHH\n",
    "# The simple model MSE is MUCH lower than our \"optimized\" elastic net.\n",
    "# So clearly we are overfitting then."
   ]
  },
  {
   "cell_type": "code",
   "execution_count": null,
   "id": "80626041-3afb-429e-bede-79aa3491ac09",
   "metadata": {},
   "outputs": [],
   "source": []
  },
  {
   "cell_type": "code",
   "execution_count": null,
   "id": "f7aafed9-00a7-48c1-9e23-8447de82d782",
   "metadata": {},
   "outputs": [],
   "source": []
  }
 ],
 "metadata": {
  "kernelspec": {
   "display_name": "Python 3 (ipykernel)",
   "language": "python",
   "name": "python3"
  },
  "language_info": {
   "codemirror_mode": {
    "name": "ipython",
    "version": 3
   },
   "file_extension": ".py",
   "mimetype": "text/x-python",
   "name": "python",
   "nbconvert_exporter": "python",
   "pygments_lexer": "ipython3",
   "version": "3.12.7"
  }
 },
 "nbformat": 4,
 "nbformat_minor": 5
}
