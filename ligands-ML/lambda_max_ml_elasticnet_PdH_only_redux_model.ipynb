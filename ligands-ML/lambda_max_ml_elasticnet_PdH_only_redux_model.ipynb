{
 "cells": [
  {
   "cell_type": "code",
   "execution_count": 1,
   "id": "10bafc00-f27f-4a8a-9794-c4a8ccc2fc2e",
   "metadata": {},
   "outputs": [],
   "source": [
    "import pandas as pd\n",
    "import matplotlib.pyplot as plt\n",
    "import seaborn as sns\n",
    "\n",
    "import sklearn.metrics\n",
    "from sklearn.model_selection import train_test_split\n",
    "from sklearn.linear_model import Lasso, LassoCV\n",
    "from sklearn.linear_model import ElasticNet\n",
    "from sklearn.model_selection import GridSearchCV\n",
    "from sklearn.preprocessing import StandardScaler\n",
    "from sklearn.feature_selection import SequentialFeatureSelector"
   ]
  },
  {
   "cell_type": "code",
   "execution_count": 2,
   "id": "31b2d336-0d59-4c5a-ad4e-fbd3d2afdc69",
   "metadata": {},
   "outputs": [
    {
     "data": {
      "text/html": [
       "<div>\n",
       "<style scoped>\n",
       "    .dataframe tbody tr th:only-of-type {\n",
       "        vertical-align: middle;\n",
       "    }\n",
       "\n",
       "    .dataframe tbody tr th {\n",
       "        vertical-align: top;\n",
       "    }\n",
       "\n",
       "    .dataframe thead th {\n",
       "        text-align: right;\n",
       "    }\n",
       "</style>\n",
       "<table border=\"1\" class=\"dataframe\">\n",
       "  <thead>\n",
       "    <tr style=\"text-align: right;\">\n",
       "      <th></th>\n",
       "      <th>molecule_id</th>\n",
       "      <th>lambda_max</th>\n",
       "      <th>shift</th>\n",
       "      <th>Pd-H_length</th>\n",
       "      <th>smiles</th>\n",
       "      <th>dipolemoment_max</th>\n",
       "      <th>pyr_P_max</th>\n",
       "      <th>pyr_alpha_max</th>\n",
       "      <th>qpole_amp_max</th>\n",
       "      <th>qpoletens_xx_max</th>\n",
       "      <th>...</th>\n",
       "      <th>vbur_qvbur_max_boltzmann_average</th>\n",
       "      <th>vbur_qvbur_min_boltzmann_average</th>\n",
       "      <th>vbur_qvtot_max_boltzmann_average</th>\n",
       "      <th>vbur_qvtot_min_boltzmann_average</th>\n",
       "      <th>vbur_ratio_vbur_vtot_boltzmann_average</th>\n",
       "      <th>vbur_vbur_boltzmann_average</th>\n",
       "      <th>vbur_vtot_boltzmann_average</th>\n",
       "      <th>vmin_r_boltzmann_average</th>\n",
       "      <th>vmin_vmin_boltzmann_average</th>\n",
       "      <th>volume_boltzmann_average</th>\n",
       "    </tr>\n",
       "  </thead>\n",
       "  <tbody>\n",
       "    <tr>\n",
       "      <th>0</th>\n",
       "      <td>8</td>\n",
       "      <td>395.4</td>\n",
       "      <td>0.0</td>\n",
       "      <td>2.30055</td>\n",
       "      <td>CC(C)(C)P(C(C)(C)C)C(C)(C)C</td>\n",
       "      <td>0.785410</td>\n",
       "      <td>0.814829</td>\n",
       "      <td>32.633045</td>\n",
       "      <td>2.286466</td>\n",
       "      <td>1.155208</td>\n",
       "      <td>...</td>\n",
       "      <td>20.849024</td>\n",
       "      <td>14.705131</td>\n",
       "      <td>92.370575</td>\n",
       "      <td>50.689070</td>\n",
       "      <td>0.277816</td>\n",
       "      <td>72.062120</td>\n",
       "      <td>253.71219</td>\n",
       "      <td>1.756687</td>\n",
       "      <td>-0.069888</td>\n",
       "      <td>320.95413</td>\n",
       "    </tr>\n",
       "    <tr>\n",
       "      <th>1</th>\n",
       "      <td>12</td>\n",
       "      <td>421.5</td>\n",
       "      <td>26.1</td>\n",
       "      <td>2.59931</td>\n",
       "      <td>CC(C)(C)CP(C(C)(C)C)C(C)(C)C</td>\n",
       "      <td>0.819760</td>\n",
       "      <td>0.883014</td>\n",
       "      <td>28.707630</td>\n",
       "      <td>1.997507</td>\n",
       "      <td>0.856250</td>\n",
       "      <td>...</td>\n",
       "      <td>21.402498</td>\n",
       "      <td>14.062596</td>\n",
       "      <td>89.652150</td>\n",
       "      <td>54.039700</td>\n",
       "      <td>0.271465</td>\n",
       "      <td>74.782196</td>\n",
       "      <td>271.61676</td>\n",
       "      <td>1.767097</td>\n",
       "      <td>-0.064135</td>\n",
       "      <td>345.01490</td>\n",
       "    </tr>\n",
       "    <tr>\n",
       "      <th>2</th>\n",
       "      <td>1648</td>\n",
       "      <td>378.0</td>\n",
       "      <td>-17.4</td>\n",
       "      <td>1.94427</td>\n",
       "      <td>CC(C)(C)P(c1cccc2ccccc12)C(C)(C)C</td>\n",
       "      <td>0.943379</td>\n",
       "      <td>0.852600</td>\n",
       "      <td>30.313591</td>\n",
       "      <td>5.221972</td>\n",
       "      <td>3.356086</td>\n",
       "      <td>...</td>\n",
       "      <td>27.215685</td>\n",
       "      <td>14.099444</td>\n",
       "      <td>146.207050</td>\n",
       "      <td>46.511883</td>\n",
       "      <td>0.235295</td>\n",
       "      <td>75.336480</td>\n",
       "      <td>322.30103</td>\n",
       "      <td>1.779128</td>\n",
       "      <td>-0.060278</td>\n",
       "      <td>385.63310</td>\n",
       "    </tr>\n",
       "    <tr>\n",
       "      <th>3</th>\n",
       "      <td>1656</td>\n",
       "      <td>414.7</td>\n",
       "      <td>19.3</td>\n",
       "      <td>2.29422</td>\n",
       "      <td>Cc1cc(C)c(P(C(C)(C)C)C(C)(C)C)c(C)c1</td>\n",
       "      <td>1.063524</td>\n",
       "      <td>0.785253</td>\n",
       "      <td>33.952614</td>\n",
       "      <td>4.349228</td>\n",
       "      <td>2.703184</td>\n",
       "      <td>...</td>\n",
       "      <td>27.946302</td>\n",
       "      <td>15.067517</td>\n",
       "      <td>128.196730</td>\n",
       "      <td>51.288940</td>\n",
       "      <td>0.252914</td>\n",
       "      <td>80.446860</td>\n",
       "      <td>320.88870</td>\n",
       "      <td>1.754941</td>\n",
       "      <td>-0.062705</td>\n",
       "      <td>392.55540</td>\n",
       "    </tr>\n",
       "    <tr>\n",
       "      <th>4</th>\n",
       "      <td>16511</td>\n",
       "      <td>369.7</td>\n",
       "      <td>-25.7</td>\n",
       "      <td>2.05612</td>\n",
       "      <td>CCC#CC(C)(C)P(CC(C)(C)C)CC(C)(C)C</td>\n",
       "      <td>0.828542</td>\n",
       "      <td>0.937721</td>\n",
       "      <td>21.047157</td>\n",
       "      <td>4.292618</td>\n",
       "      <td>3.905047</td>\n",
       "      <td>...</td>\n",
       "      <td>19.559307</td>\n",
       "      <td>15.134177</td>\n",
       "      <td>95.923110</td>\n",
       "      <td>64.802795</td>\n",
       "      <td>0.236930</td>\n",
       "      <td>76.982850</td>\n",
       "      <td>338.08795</td>\n",
       "      <td>1.775052</td>\n",
       "      <td>-0.056829</td>\n",
       "      <td>424.17822</td>\n",
       "    </tr>\n",
       "  </tbody>\n",
       "</table>\n",
       "<p>5 rows × 195 columns</p>\n",
       "</div>"
      ],
      "text/plain": [
       "   molecule_id  lambda_max  shift  Pd-H_length  \\\n",
       "0            8       395.4    0.0      2.30055   \n",
       "1           12       421.5   26.1      2.59931   \n",
       "2         1648       378.0  -17.4      1.94427   \n",
       "3         1656       414.7   19.3      2.29422   \n",
       "4        16511       369.7  -25.7      2.05612   \n",
       "\n",
       "                                 smiles  dipolemoment_max  pyr_P_max  \\\n",
       "0           CC(C)(C)P(C(C)(C)C)C(C)(C)C          0.785410   0.814829   \n",
       "1          CC(C)(C)CP(C(C)(C)C)C(C)(C)C          0.819760   0.883014   \n",
       "2     CC(C)(C)P(c1cccc2ccccc12)C(C)(C)C          0.943379   0.852600   \n",
       "3  Cc1cc(C)c(P(C(C)(C)C)C(C)(C)C)c(C)c1          1.063524   0.785253   \n",
       "4     CCC#CC(C)(C)P(CC(C)(C)C)CC(C)(C)C          0.828542   0.937721   \n",
       "\n",
       "   pyr_alpha_max  qpole_amp_max  qpoletens_xx_max  ...  \\\n",
       "0      32.633045       2.286466          1.155208  ...   \n",
       "1      28.707630       1.997507          0.856250  ...   \n",
       "2      30.313591       5.221972          3.356086  ...   \n",
       "3      33.952614       4.349228          2.703184  ...   \n",
       "4      21.047157       4.292618          3.905047  ...   \n",
       "\n",
       "   vbur_qvbur_max_boltzmann_average  vbur_qvbur_min_boltzmann_average  \\\n",
       "0                         20.849024                         14.705131   \n",
       "1                         21.402498                         14.062596   \n",
       "2                         27.215685                         14.099444   \n",
       "3                         27.946302                         15.067517   \n",
       "4                         19.559307                         15.134177   \n",
       "\n",
       "   vbur_qvtot_max_boltzmann_average  vbur_qvtot_min_boltzmann_average  \\\n",
       "0                         92.370575                         50.689070   \n",
       "1                         89.652150                         54.039700   \n",
       "2                        146.207050                         46.511883   \n",
       "3                        128.196730                         51.288940   \n",
       "4                         95.923110                         64.802795   \n",
       "\n",
       "   vbur_ratio_vbur_vtot_boltzmann_average  vbur_vbur_boltzmann_average  \\\n",
       "0                                0.277816                    72.062120   \n",
       "1                                0.271465                    74.782196   \n",
       "2                                0.235295                    75.336480   \n",
       "3                                0.252914                    80.446860   \n",
       "4                                0.236930                    76.982850   \n",
       "\n",
       "   vbur_vtot_boltzmann_average  vmin_r_boltzmann_average  \\\n",
       "0                    253.71219                  1.756687   \n",
       "1                    271.61676                  1.767097   \n",
       "2                    322.30103                  1.779128   \n",
       "3                    320.88870                  1.754941   \n",
       "4                    338.08795                  1.775052   \n",
       "\n",
       "   vmin_vmin_boltzmann_average  volume_boltzmann_average  \n",
       "0                    -0.069888                 320.95413  \n",
       "1                    -0.064135                 345.01490  \n",
       "2                    -0.060278                 385.63310  \n",
       "3                    -0.062705                 392.55540  \n",
       "4                    -0.056829                 424.17822  \n",
       "\n",
       "[5 rows x 195 columns]"
      ]
     },
     "execution_count": 2,
     "metadata": {},
     "output_type": "execute_result"
    }
   ],
   "source": [
    "# Merge our DFT result data with the Kraken ML data for the ligands.\n",
    "dft_df = pd.read_csv(\"dft_data/lambda_max_v_bond_len_H_only.csv\")\n",
    "kraken_df = pd.read_csv(\"kraken_data/ml_8_210.csv\")\n",
    "\n",
    "merged_df = pd.merge(dft_df, kraken_df, on=\"molecule_id\")\n",
    "merged_df.head()\n",
    "# Effectively, I think of this as a left joining kraken_df on dft_df"
   ]
  },
  {
   "cell_type": "code",
   "execution_count": 3,
   "id": "a5155031-1fc5-4ddf-99db-b105266804aa",
   "metadata": {},
   "outputs": [],
   "source": [
    "# Let's start with the top 20 features in the first principal component from our PCA (see ligand_pca.ipynb)\n",
    "# Then let's examine their multicollinearity and remove features until we have significantly reduced that.\n",
    "# We can also use various algorithms to do feature selection for us at this point.\n",
    "\n",
    "# Since these data are all related to complexes with some agostic interaction, I have decided to include the distance between\n",
    "# Pd and H (Pd-H_length) to see if the model hones in on this feature and whether that is generally helpful to us.\n",
    "\n",
    "first_pca_20_and_Pd_H_length = [\n",
    "    \"Pd-H_length\",\n",
    "    # \"nbo_lp_P_percent_s_boltzmann_average\",\n",
    "    # \"nbo_lp_P_occ_boltzmann_average\",\n",
    "    # \"nmrtens_sxx_P_boltzmann_average\",\n",
    "    # \"vmin_r_boltzmann_average\",\n",
    "    # \"nmr_P_boltzmann_average\",\n",
    "    # \"vbur_max_delta_qvtot_max\",\n",
    "    # \"vbur_max_delta_qvtot_vburminconf\",\n",
    "    # \"vbur_ratio_vbur_vtot_boltzmann_average\",\n",
    "    # \"vbur_max_delta_qvtot_boltzmann_average\",\n",
    "    # \"vbur_max_delta_qvtot_min\",\n",
    "    # \"sterimol_burB5_boltzmann_average\",\n",
    "    # \"vbur_ovbur_max_max\",\n",
    "    # \"vbur_qvbur_max_max\",\n",
    "    # \"vbur_ovbur_max_vburminconf\",\n",
    "    # \"vbur_ovbur_max_boltzmann_average\",\n",
    "    # \"vbur_qvbur_max_boltzmann_average\",\n",
    "    # \"vbur_ovbur_max_min\",\n",
    "    # \"vbur_qvbur_max_min\",\n",
    "    \"vbur_far_vtot_max\"\n",
    "]\n",
    "features = merged_df[first_pca_20_and_Pd_H_length]\n",
    "\n",
    "# plt.figure(figsize= (20, 20))\n",
    "# corr_heatmap = sns.heatmap(features.corr(), annot=True)"
   ]
  },
  {
   "cell_type": "code",
   "execution_count": 4,
   "id": "cb3f4c46-2403-490b-8e80-81f45f72a6fe",
   "metadata": {},
   "outputs": [
    {
     "data": {
      "image/png": "[encoded data removed]",
      "text/plain": [
       "<Figure size 360x360 with 2 Axes>"
      ]
     },
     "metadata": {
      "needs_background": "light"
     },
     "output_type": "display_data"
    }
   ],
   "source": [
    "# Let's do an absolute heatmap (and set the color axis so that 0 is light, 1 is dark):\n",
    "plt.figure(figsize= (5, 5))\n",
    "cmap = sns.cm.rocket_r\n",
    "abs_corr_heatmap = sns.heatmap(abs(features.corr()), annot=True, cmap=cmap)"
   ]
  },
  {
   "cell_type": "code",
   "execution_count": 5,
   "id": "eba0a087-b429-49cd-a29e-a426073cefe2",
   "metadata": {},
   "outputs": [],
   "source": [
    "# Set the feature and target values:\n",
    "X = features.values\n",
    "target = merged_df.columns[1]\n",
    "y = merged_df[target].values"
   ]
  },
  {
   "cell_type": "code",
   "execution_count": 6,
   "id": "879e31c5-2014-4f11-8b08-38d80c049509",
   "metadata": {},
   "outputs": [
    {
     "name": "stdout",
     "output_type": "stream",
     "text": [
      "['accuracy', 'adjusted_mutual_info_score', 'adjusted_rand_score', 'average_precision', 'balanced_accuracy', 'completeness_score', 'd2_absolute_error_score', 'explained_variance', 'f1', 'f1_macro', 'f1_micro', 'f1_samples', 'f1_weighted', 'fowlkes_mallows_score', 'homogeneity_score', 'jaccard', 'jaccard_macro', 'jaccard_micro', 'jaccard_samples', 'jaccard_weighted', 'matthews_corrcoef', 'max_error', 'mutual_info_score', 'neg_brier_score', 'neg_log_loss', 'neg_mean_absolute_error', 'neg_mean_absolute_percentage_error', 'neg_mean_gamma_deviance', 'neg_mean_poisson_deviance', 'neg_mean_squared_error', 'neg_mean_squared_log_error', 'neg_median_absolute_error', 'neg_negative_likelihood_ratio', 'neg_root_mean_squared_error', 'neg_root_mean_squared_log_error', 'normalized_mutual_info_score', 'positive_likelihood_ratio', 'precision', 'precision_macro', 'precision_micro', 'precision_samples', 'precision_weighted', 'r2', 'rand_score', 'recall', 'recall_macro', 'recall_micro', 'recall_samples', 'recall_weighted', 'roc_auc', 'roc_auc_ovo', 'roc_auc_ovo_weighted', 'roc_auc_ovr', 'roc_auc_ovr_weighted', 'top_k_accuracy', 'v_measure_score']\n"
     ]
    }
   ],
   "source": [
    "print(sklearn.metrics.get_scorer_names())"
   ]
  },
  {
   "cell_type": "code",
   "execution_count": 7,
   "id": "668f7be5-c1ac-4bb4-aabf-fecedab393ba",
   "metadata": {},
   "outputs": [],
   "source": [
    "# I think the \"best\" model for us is probably the Elastic Net, so let's stick with that.\n",
    "\n",
    "# We really need to do some hyperparameter tuning when it comes to alpha and l1_ratio. \n",
    "# Let's do a Grid Search CV\n",
    "# Seems like I'd have to use Cp or some information criterion as the scoring metric?\n",
    "# Those don't seem to be available. TODO: address scoring metric choice\n",
    "\n",
    "elastic_net = ElasticNet(tol=0.0001, max_iter=1000000)\n",
    "\n",
    "search_space = {\n",
    "    # \"alpha\": [0.00001, 0.00005, 0.0001, 0.0005, 0.001, 0.01, 0.1, 1, 10, 20, 50, 100, 200, 500, 1000],\n",
    "    \"alpha\": [0.00000001, 0.0000001, 0.000001, 0.00001, 0.00005, 0.0001, 0.0005, 0.001, 0.01, 0.1, 1, 10, 20, 50, 100, 200, 500, 1000],\n",
    "    \"l1_ratio\": [0.1, 0.2, 0.3, 0.4, 0.5, 0.6, 0.7, 0.8, 0.9, 0.95, 0.99, 1]\n",
    "}\n",
    "\n",
    "gs_elastic_net = GridSearchCV(\n",
    "    estimator=elastic_net,\n",
    "    param_grid=search_space,\n",
    "    scoring=[\"r2\"],\n",
    "    refit=\"r2\",\n",
    "    cv=5\n",
    ")"
   ]
  },
  {
   "cell_type": "code",
   "execution_count": 8,
   "id": "e083ae6e-fb5d-4b5a-97ca-0226f17a4a50",
   "metadata": {},
   "outputs": [],
   "source": [
    "# Leave-one-out CV\n",
    "from sklearn.model_selection import LeaveOneOut\n",
    "def loocv(X, y, model, verbose=False):\n",
    "    loo = LeaveOneOut()\n",
    "    loo.get_n_splits(X)\n",
    "    \n",
    "    y_preds = []\n",
    "    for i, (train_indices, test_index) in enumerate(loo.split(X)):\n",
    "        print(f\"Fold {i}: \", end=\"\")\n",
    "        X_train, y_train = X[train_indices], y[train_indices]\n",
    "        X_test, y_test = X[test_index], y[test_index]\n",
    "        model.fit(X_train, y_train)\n",
    "        y_pred = model.predict(X_test)\n",
    "        y_preds.append(y_pred[0])\n",
    "        print(\"complete.  \", end=\"\")\n",
    "        \n",
    "        if verbose:\n",
    "            print()\n",
    "            print(model.best_estimator_.get_params())\n",
    "            print(model.best_estimator_.coef_)\n",
    "    \n",
    "    print()\n",
    "    return y_preds"
   ]
  },
  {
   "cell_type": "code",
   "execution_count": 9,
   "id": "7fb5b535-53b3-45f1-a4d2-a6c3efcf3416",
   "metadata": {},
   "outputs": [
    {
     "name": "stdout",
     "output_type": "stream",
     "text": [
      "Fold 0: complete.  \n",
      "{'alpha': 1e-06, 'copy_X': True, 'fit_intercept': True, 'l1_ratio': 1, 'max_iter': 1000000, 'positive': False, 'precompute': False, 'random_state': None, 'selection': 'cyclic', 'tol': 0.0001, 'warm_start': False}\n",
      "[83.4610335   0.87067303]\n",
      "Fold 1: complete.  \n",
      "{'alpha': 1e-08, 'copy_X': True, 'fit_intercept': True, 'l1_ratio': 1, 'max_iter': 1000000, 'positive': False, 'precompute': False, 'random_state': None, 'selection': 'cyclic', 'tol': 0.0001, 'warm_start': False}\n",
      "[80.20781616  0.8688115 ]\n",
      "Fold 2: complete.  \n",
      "{'alpha': 1e-08, 'copy_X': True, 'fit_intercept': True, 'l1_ratio': 1, 'max_iter': 1000000, 'positive': False, 'precompute': False, 'random_state': None, 'selection': 'cyclic', 'tol': 0.0001, 'warm_start': False}\n",
      "[89.26153362  0.83184462]\n",
      "Fold 3: complete.  \n",
      "{'alpha': 0.001, 'copy_X': True, 'fit_intercept': True, 'l1_ratio': 0.8, 'max_iter': 1000000, 'positive': False, 'precompute': False, 'random_state': None, 'selection': 'cyclic', 'tol': 0.0001, 'warm_start': False}\n",
      "[81.91486203  0.831718  ]\n",
      "Fold 4: complete.  \n",
      "{'alpha': 1e-07, 'copy_X': True, 'fit_intercept': True, 'l1_ratio': 1, 'max_iter': 1000000, 'positive': False, 'precompute': False, 'random_state': None, 'selection': 'cyclic', 'tol': 0.0001, 'warm_start': False}\n",
      "[83.9504951   0.84446561]\n",
      "Fold 5: complete.  \n",
      "{'alpha': 1e-07, 'copy_X': True, 'fit_intercept': True, 'l1_ratio': 1, 'max_iter': 1000000, 'positive': False, 'precompute': False, 'random_state': None, 'selection': 'cyclic', 'tol': 0.0001, 'warm_start': False}\n",
      "[86.16978168  0.87409577]\n",
      "Fold 6: complete.  \n",
      "{'alpha': 1e-08, 'copy_X': True, 'fit_intercept': True, 'l1_ratio': 1, 'max_iter': 1000000, 'positive': False, 'precompute': False, 'random_state': None, 'selection': 'cyclic', 'tol': 0.0001, 'warm_start': False}\n",
      "[86.10018348  0.84762106]\n",
      "Fold 7: complete.  \n",
      "{'alpha': 1e-08, 'copy_X': True, 'fit_intercept': True, 'l1_ratio': 1, 'max_iter': 1000000, 'positive': False, 'precompute': False, 'random_state': None, 'selection': 'cyclic', 'tol': 0.0001, 'warm_start': False}\n",
      "[85.21391766  0.8987781 ]\n",
      "Fold 8: complete.  \n",
      "{'alpha': 0.1, 'copy_X': True, 'fit_intercept': True, 'l1_ratio': 1, 'max_iter': 1000000, 'positive': False, 'precompute': False, 'random_state': None, 'selection': 'cyclic', 'tol': 0.0001, 'warm_start': False}\n",
      "[79.66437256  0.83670668]\n",
      "Fold 9: complete.  \n",
      "{'alpha': 1e-07, 'copy_X': True, 'fit_intercept': True, 'l1_ratio': 1, 'max_iter': 1000000, 'positive': False, 'precompute': False, 'random_state': None, 'selection': 'cyclic', 'tol': 0.0001, 'warm_start': False}\n",
      "[81.71489877  0.9369298 ]\n",
      "Fold 10: complete.  \n",
      "{'alpha': 1e-08, 'copy_X': True, 'fit_intercept': True, 'l1_ratio': 1, 'max_iter': 1000000, 'positive': False, 'precompute': False, 'random_state': None, 'selection': 'cyclic', 'tol': 0.0001, 'warm_start': False}\n",
      "[83.57870803  0.84915019]\n",
      "Fold 11: complete.  \n",
      "{'alpha': 1e-08, 'copy_X': True, 'fit_intercept': True, 'l1_ratio': 1, 'max_iter': 1000000, 'positive': False, 'precompute': False, 'random_state': None, 'selection': 'cyclic', 'tol': 0.0001, 'warm_start': False}\n",
      "[82.35375346  0.8088723 ]\n",
      "Fold 12: complete.  \n",
      "{'alpha': 1e-06, 'copy_X': True, 'fit_intercept': True, 'l1_ratio': 1, 'max_iter': 1000000, 'positive': False, 'precompute': False, 'random_state': None, 'selection': 'cyclic', 'tol': 0.0001, 'warm_start': False}\n",
      "[81.99130008  0.87677648]\n",
      "Fold 13: complete.  \n",
      "{'alpha': 1e-06, 'copy_X': True, 'fit_intercept': True, 'l1_ratio': 1, 'max_iter': 1000000, 'positive': False, 'precompute': False, 'random_state': None, 'selection': 'cyclic', 'tol': 0.0001, 'warm_start': False}\n",
      "[83.94564893  0.88078935]\n",
      "Fold 14: complete.  \n",
      "{'alpha': 1e-06, 'copy_X': True, 'fit_intercept': True, 'l1_ratio': 1, 'max_iter': 1000000, 'positive': False, 'precompute': False, 'random_state': None, 'selection': 'cyclic', 'tol': 0.0001, 'warm_start': False}\n",
      "[84.63051117  0.86063228]\n",
      "Fold 15: complete.  \n",
      "{'alpha': 1e-06, 'copy_X': True, 'fit_intercept': True, 'l1_ratio': 1, 'max_iter': 1000000, 'positive': False, 'precompute': False, 'random_state': None, 'selection': 'cyclic', 'tol': 0.0001, 'warm_start': False}\n",
      "[84.29808862  0.87109231]\n",
      "Fold 16: complete.  \n",
      "{'alpha': 1e-06, 'copy_X': True, 'fit_intercept': True, 'l1_ratio': 1, 'max_iter': 1000000, 'positive': False, 'precompute': False, 'random_state': None, 'selection': 'cyclic', 'tol': 0.0001, 'warm_start': False}\n",
      "[83.53853205  0.89122178]\n",
      "Fold 17: complete.  \n",
      "{'alpha': 1e-06, 'copy_X': True, 'fit_intercept': True, 'l1_ratio': 1, 'max_iter': 1000000, 'positive': False, 'precompute': False, 'random_state': None, 'selection': 'cyclic', 'tol': 0.0001, 'warm_start': False}\n",
      "[84.58016876  0.83133784]\n",
      "Fold 18: complete.  \n",
      "{'alpha': 1e-06, 'copy_X': True, 'fit_intercept': True, 'l1_ratio': 1, 'max_iter': 1000000, 'positive': False, 'precompute': False, 'random_state': None, 'selection': 'cyclic', 'tol': 0.0001, 'warm_start': False}\n",
      "[84.26382147  0.84275265]\n",
      "Fold 19: complete.  \n",
      "{'alpha': 1e-06, 'copy_X': True, 'fit_intercept': True, 'l1_ratio': 1, 'max_iter': 1000000, 'positive': False, 'precompute': False, 'random_state': None, 'selection': 'cyclic', 'tol': 0.0001, 'warm_start': False}\n",
      "[84.25961887  0.84269952]\n",
      "Fold 20: complete.  \n",
      "{'alpha': 1e-07, 'copy_X': True, 'fit_intercept': True, 'l1_ratio': 1, 'max_iter': 1000000, 'positive': False, 'precompute': False, 'random_state': None, 'selection': 'cyclic', 'tol': 0.0001, 'warm_start': False}\n",
      "[83.48372465  0.84102204]\n",
      "Fold 21: complete.  \n",
      "{'alpha': 1e-08, 'copy_X': True, 'fit_intercept': True, 'l1_ratio': 1, 'max_iter': 1000000, 'positive': False, 'precompute': False, 'random_state': None, 'selection': 'cyclic', 'tol': 0.0001, 'warm_start': False}\n",
      "[84.1691207  0.7186869]\n",
      "Fold 22: complete.  \n",
      "{'alpha': 1e-08, 'copy_X': True, 'fit_intercept': True, 'l1_ratio': 1, 'max_iter': 1000000, 'positive': False, 'precompute': False, 'random_state': None, 'selection': 'cyclic', 'tol': 0.0001, 'warm_start': False}\n",
      "[84.2014422   0.75328359]\n",
      "Fold 23: complete.  \n",
      "{'alpha': 0.1, 'copy_X': True, 'fit_intercept': True, 'l1_ratio': 1, 'max_iter': 1000000, 'positive': False, 'precompute': False, 'random_state': None, 'selection': 'cyclic', 'tol': 0.0001, 'warm_start': False}\n",
      "[84.61080808  0.85783489]\n",
      "Fold 24: complete.  \n",
      "{'alpha': 1e-08, 'copy_X': True, 'fit_intercept': True, 'l1_ratio': 1, 'max_iter': 1000000, 'positive': False, 'precompute': False, 'random_state': None, 'selection': 'cyclic', 'tol': 0.0001, 'warm_start': False}\n",
      "[84.82213095  0.82220278]\n",
      "Fold 25: complete.  \n",
      "{'alpha': 1e-08, 'copy_X': True, 'fit_intercept': True, 'l1_ratio': 1, 'max_iter': 1000000, 'positive': False, 'precompute': False, 'random_state': None, 'selection': 'cyclic', 'tol': 0.0001, 'warm_start': False}\n",
      "[80.45012318  0.81215628]\n",
      "Fold 26: complete.  \n",
      "{'alpha': 1e-06, 'copy_X': True, 'fit_intercept': True, 'l1_ratio': 1, 'max_iter': 1000000, 'positive': False, 'precompute': False, 'random_state': None, 'selection': 'cyclic', 'tol': 0.0001, 'warm_start': False}\n",
      "[81.59688056  0.78982289]\n",
      "Fold 27: complete.  \n",
      "{'alpha': 1e-08, 'copy_X': True, 'fit_intercept': True, 'l1_ratio': 1, 'max_iter': 1000000, 'positive': False, 'precompute': False, 'random_state': None, 'selection': 'cyclic', 'tol': 0.0001, 'warm_start': False}\n",
      "[84.56720351  0.85960434]\n",
      "Fold 28: complete.  \n",
      "{'alpha': 1e-08, 'copy_X': True, 'fit_intercept': True, 'l1_ratio': 1, 'max_iter': 1000000, 'positive': False, 'precompute': False, 'random_state': None, 'selection': 'cyclic', 'tol': 0.0001, 'warm_start': False}\n",
      "[84.72450944  0.86741906]\n",
      "\n",
      "[388.4768760681899, 413.3928506499515, 364.3239016364975, 394.37337310554403, 369.95964960224035, 372.3542852130401, 378.46629550214794, 402.62140415108047, 410.153471141751, 388.08554939549816, 398.6622388813564, 367.38163908993215, 396.64842451313905, 400.87969410439496, 410.4935404150128, 413.2394786136649, 398.65632860950313, 381.6135105135414, 406.24640127671523, 381.98427595170267, 379.75562168507986, 385.20946731219215, 385.4600141159748, 418.512910399658, 387.5281287565265, 373.4500156796399, 371.01166046868, 379.01097093475084, 377.6696919376508]\n"
     ]
    }
   ],
   "source": [
    "y_preds = loocv(X, y, gs_elastic_net, verbose=True)\n",
    "print(y_preds)"
   ]
  },
  {
   "cell_type": "code",
   "execution_count": 10,
   "id": "97df028c-d74c-4f37-baab-235171642d11",
   "metadata": {},
   "outputs": [
    {
     "name": "stdout",
     "output_type": "stream",
     "text": [
      "LOOCV MSE: 134.1\n"
     ]
    }
   ],
   "source": [
    "# Compute MSE:\n",
    "squared_errors = []\n",
    "for i in range(len(y_preds)):\n",
    "    squared_errors.append(round((y_preds[i] - y[i]) ** 2, 1))\n",
    "print(f\"LOOCV MSE: {round((sum(squared_errors) / len(squared_errors)), 1)}\")"
   ]
  },
  {
   "cell_type": "code",
   "execution_count": 11,
   "id": "4bdfdb4f-060f-4b81-a14e-04490fd223e2",
   "metadata": {},
   "outputs": [
    {
     "name": "stdout",
     "output_type": "stream",
     "text": [
      "Linear, 2-feature coefficients: [84.0125019   0.84517346]\n",
      "Linear, 2-feature R2: 0.6694804502148506\n"
     ]
    }
   ],
   "source": [
    "gs_elastic_net.fit(X, y)\n",
    "print(f\"Linear, 2-feature coefficients: {gs_elastic_net.best_estimator_.coef_}\")\n",
    "print(f\"Linear, 2-feature R2: {gs_elastic_net.score(X, y)}\")"
   ]
  },
  {
   "cell_type": "code",
   "execution_count": 12,
   "id": "ae2f56f4-43c8-4323-a81d-0422e2f3caa6",
   "metadata": {},
   "outputs": [
    {
     "data": {
      "text/plain": [
       "<Axes: xlabel='molecule_id'>"
      ]
     },
     "execution_count": 12,
     "metadata": {},
     "output_type": "execute_result"
    },
    {
     "data": {
      "image/png": "[encoded data removed]",
      "text/plain": [
       "<Figure size 432x288 with 1 Axes>"
      ]
     },
     "metadata": {
      "needs_background": "light"
     },
     "output_type": "display_data"
    }
   ],
   "source": [
    "pd.Series(squared_errors, dft_df[\"molecule_id\"]).sort_values(ascending = True).plot(kind = \"bar\")\n",
    "# TODO: double check that the labels and the names are correctly corresponding\n",
    "# same with the other such plots too"
   ]
  },
  {
   "cell_type": "code",
   "execution_count": 13,
   "id": "fd46688a-a92d-4ba2-a6c6-90bc40509735",
   "metadata": {},
   "outputs": [],
   "source": [
    "# Boostrap CV\n",
    "from sklearn.utils import resample\n",
    "\n",
    "boot = resample(X, replace=True, n_samples=len(X), random_state=1)\n",
    "# print(boot)"
   ]
  },
  {
   "cell_type": "code",
   "execution_count": 14,
   "id": "9fdf62b2-332f-4d7c-98ad-f50795f36556",
   "metadata": {},
   "outputs": [
    {
     "name": "stdout",
     "output_type": "stream",
     "text": [
      "Linear, agostic R2: 0.537289020722717\n"
     ]
    }
   ],
   "source": [
    "# Also, how much better is out model than a 1-parameter regression with Pd-H length?\n",
    "# for what that model would lack in flexibility it may just fare well due to not overfitting...\n",
    "# basically, does the Kraken ML data really add anything or not, is it actually learning from that stuff\n",
    "from sklearn.linear_model import LinearRegression\n",
    "import numpy as np\n",
    "\n",
    "linear_agostic = LinearRegression()\n",
    "X_PdH = merged_df.loc[:, [\"Pd-H_length\"]].to_numpy()\n",
    "linear_agostic.fit(X_PdH, y)\n",
    "\n",
    "print(f\"Linear, agostic R2: {linear_agostic.score(X_PdH, y)}\")"
   ]
  },
  {
   "cell_type": "code",
   "execution_count": 15,
   "id": "884031d7-578b-43dd-9aa2-dd527fc7c387",
   "metadata": {},
   "outputs": [
    {
     "name": "stdout",
     "output_type": "stream",
     "text": [
      "Fold 0: complete.  Fold 1: complete.  Fold 2: complete.  Fold 3: complete.  Fold 4: complete.  Fold 5: complete.  Fold 6: complete.  Fold 7: complete.  Fold 8: complete.  Fold 9: complete.  Fold 10: complete.  Fold 11: complete.  Fold 12: complete.  Fold 13: complete.  Fold 14: complete.  Fold 15: complete.  Fold 16: complete.  Fold 17: complete.  Fold 18: complete.  Fold 19: complete.  Fold 20: complete.  Fold 21: complete.  Fold 22: complete.  Fold 23: complete.  Fold 24: complete.  Fold 25: complete.  Fold 26: complete.  Fold 27: complete.  Fold 28: complete.  \n",
      "[394.6755164457433, 419.3005834704736, 362.55801743179586, 393.35196220130064, 374.59554158656476, 376.8066076923384, 378.7714368754143, 395.56876373728085, 406.5413829227748, 397.71404318337227, 401.5183601112217, 375.7147222606427, 402.0690442662449, 388.25644560406, 401.95564363392134, 395.97624695529237, 382.9343385556033, 369.69794591344066, 412.0252261264768, 379.4558596210981, 381.43366139126283, 391.1535062941429, 391.1100198154753, 417.22941790071985, 384.20345223211666, 376.7707080111017, 378.1143823639078, 383.23551740833193, 382.9904742173245]\n"
     ]
    }
   ],
   "source": [
    "y_preds = loocv(X_PdH, y, linear_agostic)\n",
    "print(y_preds)"
   ]
  },
  {
   "cell_type": "code",
   "execution_count": 16,
   "id": "68764054-87a2-4a53-878b-5e9efd724f1e",
   "metadata": {},
   "outputs": [
    {
     "name": "stdout",
     "output_type": "stream",
     "text": [
      "LOOCV MSE: 179.0\n"
     ]
    }
   ],
   "source": [
    "squared_errors = []\n",
    "for i in range(len(y_preds)):\n",
    "    squared_errors.append(round((y_preds[i] - y[i]) ** 2, 1))\n",
    "print(f\"LOOCV MSE: {round((sum(squared_errors) / len(squared_errors)), 1)}\")"
   ]
  },
  {
   "cell_type": "code",
   "execution_count": 17,
   "id": "4d7e89cb-ec2b-4bc9-8bd4-20470b4e8a6e",
   "metadata": {},
   "outputs": [],
   "source": [
    "# AAAAAAAAAAAGGGGGGGGGGGGGGGGHHHHHHHHHHHHHHHHHHHHHHHHHHHHHHHHHHH\n",
    "# The simple model MSE is MUCH lower than our \"optimized\" elastic net.\n",
    "# So clearly we are overfitting then."
   ]
  },
  {
   "cell_type": "code",
   "execution_count": null,
   "id": "80626041-3afb-429e-bede-79aa3491ac09",
   "metadata": {},
   "outputs": [],
   "source": []
  },
  {
   "cell_type": "code",
   "execution_count": null,
   "id": "f7aafed9-00a7-48c1-9e23-8447de82d782",
   "metadata": {},
   "outputs": [],
   "source": []
  }
 ],
 "metadata": {
  "kernelspec": {
   "display_name": "Python 3 (ipykernel)",
   "language": "python",
   "name": "python3"
  },
  "language_info": {
   "codemirror_mode": {
    "name": "ipython",
    "version": 3
   },
   "file_extension": ".py",
   "mimetype": "text/x-python",
   "name": "python",
   "nbconvert_exporter": "python",
   "pygments_lexer": "ipython3",
   "version": "3.12.7"
  }
 },
 "nbformat": 4,
 "nbformat_minor": 5
}
